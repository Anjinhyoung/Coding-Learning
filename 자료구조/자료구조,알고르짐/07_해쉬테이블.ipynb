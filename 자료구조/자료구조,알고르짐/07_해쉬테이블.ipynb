{
  "nbformat": 4,
  "nbformat_minor": 0,
  "metadata": {
    "colab": {
      "provenance": [],
      "authorship_tag": "ABX9TyPasZZ/UkOqH0Hf8I/c+moI",
      "include_colab_link": true
    },
    "kernelspec": {
      "name": "python3",
      "display_name": "Python 3"
    },
    "language_info": {
      "name": "python"
    }
  },
  "cells": [
    {
      "cell_type": "markdown",
      "metadata": {
        "id": "view-in-github",
        "colab_type": "text"
      },
      "source": [
        "<a href=\"https://colab.research.google.com/github/Anjinhyoung/Coding-Learning/blob/main/Copy_of_07_%ED%95%B4%EC%89%AC%ED%85%8C%EC%9D%B4%EB%B8%94.ipynb\" target=\"_parent\"><img src=\"https://colab.research.google.com/assets/colab-badge.svg\" alt=\"Open In Colab\"/></a>"
      ]
    },
    {
      "cell_type": "markdown",
      "source": [
        "# 1. 해쉬테이블\n",
        "* 키(key)에 데이터(value)를 저장하는 데이터 구조\n",
        "* 파이썬에서는 딕셔너리(dict)타입이 해쉬 테이블 예\n",
        "* key를 통해 데이터를 바로 찾을 수 있으므로 검색 속도가 빠름\n",
        "* 보통 배열로 미리 Hash Table 사이즈만큼 생성 후에 사용\n"
      ],
      "metadata": {
        "id": "UfceUE9q2QiB"
      }
    },
    {
      "cell_type": "markdown",
      "source": [
        "# 2. 알아둘 용어\n",
        "* 해쉬(Hash): 임의 값을 고정 길이로 변화하는 것\n",
        "* 해쉬 테이블(Hash Table): 키 값의 연산에 의해 직접 접근이 가능한 구조\n",
        "* 해쉬 함수:key에 대해 산술 연산을 이용해 데이터 위치를 찾을 수 있는 함수\n",
        "* 해쉬 값또는 해쉬 주소를 해싱 함수로 연산해서 해쉬값을 알아내고 이름 기반으로 해쉬 테이블에 해당 key에     대한 데이터 위치를 일관성 있게 찾음\n",
        "* 슬롯:한 개의 데이터를 저장할 수 있는 공간"
      ],
      "metadata": {
        "id": "5iyS3iDG4JNc"
      }
    },
    {
      "cell_type": "markdown",
      "source": [
        "#3. 간단한 해쉬 예"
      ],
      "metadata": {
        "id": "YFa7ax3W9ayJ"
      }
    },
    {
      "cell_type": "markdown",
      "source": [
        "### 3-1.슬롯 만들기"
      ],
      "metadata": {
        "id": "CkdBcv8h9fUg"
      }
    },
    {
      "cell_type": "code",
      "source": [
        "# 리스트 컴프리헨션\n",
        "hash_table = list([0 for i in range(10)])\n",
        "hash_table"
      ],
      "metadata": {
        "colab": {
          "base_uri": "https://localhost:8080/"
        },
        "id": "OvSjNelW9iFs",
        "outputId": "97566319-9054-4a4f-843d-32b2ee3ae767"
      },
      "execution_count": null,
      "outputs": [
        {
          "output_type": "execute_result",
          "data": {
            "text/plain": [
              "[0, 0, 0, 0, 0, 0, 0, 0, 0, 0]"
            ]
          },
          "metadata": {},
          "execution_count": 2
        }
      ]
    },
    {
      "cell_type": "markdown",
      "source": [
        "### 3-2.해쉬 함수 만들기\n",
        "* 해쉬 함수는 다양하게 생성할 수 있으며, 가장 간단한 방법으로 division법(나누기를  통한 나머지값을 사용하는 기법)을 사용함"
      ],
      "metadata": {
        "id": "jhJ8QFGd_sqc"
      }
    },
    {
      "cell_type": "code",
      "source": [
        "def hash_func(key):\n",
        "    return key%10"
      ],
      "metadata": {
        "id": "BvHQQ2jJALJN"
      },
      "execution_count": null,
      "outputs": []
    },
    {
      "cell_type": "markdown",
      "source": [
        "### 3-3. 해쉬 테이블에 저장하기\n",
        "* 데이터에 따라 필요시 key 생성 방법 정의가 필요함함"
      ],
      "metadata": {
        "id": "wm3nmBdQCM7h"
      }
    },
    {
      "cell_type": "code",
      "source": [
        "data1 = \"apple\"\n",
        "data2 = \"banana\"\n",
        "data3 = \"orange\"\n",
        "data4 = \"melon\""
      ],
      "metadata": {
        "id": "OiSRBbyBCZR2"
      },
      "execution_count": null,
      "outputs": []
    },
    {
      "cell_type": "code",
      "source": [
        "# ord(): 문자의 아스키도를 반환\n",
        "print(ord(data1[0]))\n",
        "print(ord(data2[0]))\n",
        "print(ord(data3[0]))\n",
        "print(ord(data4[0]))"
      ],
      "metadata": {
        "colab": {
          "base_uri": "https://localhost:8080/"
        },
        "id": "gdtuKo3uEoZg",
        "outputId": "b04b3f56-559c-4931-9138-b38bd1d851ab"
      },
      "execution_count": null,
      "outputs": [
        {
          "output_type": "stream",
          "name": "stdout",
          "text": [
            "97\n",
            "98\n",
            "111\n",
            "109\n"
          ]
        }
      ]
    },
    {
      "cell_type": "code",
      "source": [
        "print(hash_func(ord(data1[0])))\n",
        "print(hash_func(ord(data2[0])))\n",
        "print(hash_func(ord(data3[0])))\n",
        "print(hash_func(ord(data4[0])))"
      ],
      "metadata": {
        "colab": {
          "base_uri": "https://localhost:8080/"
        },
        "id": "tj3YdBOlFIAM",
        "outputId": "3d9183de-c55b-4c07-f5cd-e5c6987af0b1"
      },
      "execution_count": null,
      "outputs": [
        {
          "output_type": "stream",
          "name": "stdout",
          "text": [
            "7\n",
            "8\n",
            "1\n",
            "9\n"
          ]
        }
      ]
    },
    {
      "cell_type": "code",
      "source": [
        "def storange_data(data, value): # apple, 010-1111-1111\n",
        "    key=ord(data[0])\n",
        "    hash_address=hash_func(key)\n",
        "    hash_table[hash_address]=value"
      ],
      "metadata": {
        "id": "slg_CdblFdpW"
      },
      "execution_count": null,
      "outputs": []
    },
    {
      "cell_type": "code",
      "source": [
        "storange_data(\"apple\",\"010-1111-1111\")"
      ],
      "metadata": {
        "id": "yh7JAOJ_GQKA"
      },
      "execution_count": null,
      "outputs": []
    },
    {
      "cell_type": "code",
      "source": [
        "hash_table"
      ],
      "metadata": {
        "colab": {
          "base_uri": "https://localhost:8080/"
        },
        "id": "b-DIQ1tcGU2W",
        "outputId": "488efe26-a2ae-4689-f1e6-f670293fa7bf"
      },
      "execution_count": null,
      "outputs": [
        {
          "output_type": "execute_result",
          "data": {
            "text/plain": [
              "[0, 0, 0, 0, 0, 0, 0, '010-1111-1111', 0, 0]"
            ]
          },
          "metadata": {},
          "execution_count": 9
        }
      ]
    },
    {
      "cell_type": "code",
      "source": [
        "storange_data(\"banana\",\"010-2222-1111\")\n",
        "storange_data(\"orange\",\"010-3333-1111\")\n",
        "storange_data(\"melone\",\"010-5555-1111\")"
      ],
      "metadata": {
        "id": "hbd48PNZG9ED"
      },
      "execution_count": null,
      "outputs": []
    },
    {
      "cell_type": "code",
      "source": [
        "hash_table"
      ],
      "metadata": {
        "colab": {
          "base_uri": "https://localhost:8080/"
        },
        "id": "e7nx_Ar_HJXM",
        "outputId": "d6acdd6f-b9b0-4009-d581-ca789e80db01"
      },
      "execution_count": null,
      "outputs": [
        {
          "output_type": "execute_result",
          "data": {
            "text/plain": [
              "[0,\n",
              " '010-3333-1111',\n",
              " 0,\n",
              " 0,\n",
              " 0,\n",
              " 0,\n",
              " 0,\n",
              " '010-1111-1111',\n",
              " '010-2222-1111',\n",
              " '010-5555-1111']"
            ]
          },
          "metadata": {},
          "execution_count": 11
        }
      ]
    },
    {
      "cell_type": "markdown",
      "source": [
        "### 3-4. hash()함수를 사용해서 해싱함수를 수정하기"
      ],
      "metadata": {
        "id": "qAwi7j7PHb_A"
      }
    },
    {
      "cell_type": "code",
      "source": [
        "def get_key(data):\n",
        "    return hash(data)\n",
        "\n",
        "def hash_function(key):\n",
        "    return key%10\n",
        "def save_data(data, value):\n",
        "    hash_address=hash_function(get_key(data))\n",
        "    hash_table[hash_address] = value\n",
        "\n",
        "def read_data(data):\n",
        "    hash_address=hash_function(get_key(data))\n",
        "    return hash_table[hash_address]"
      ],
      "metadata": {
        "id": "K5Y1klP_IOiu"
      },
      "execution_count": null,
      "outputs": []
    },
    {
      "cell_type": "code",
      "source": [
        "hash_table = list([0 for i in range(10)])\n",
        "print(hash_table)"
      ],
      "metadata": {
        "colab": {
          "base_uri": "https://localhost:8080/"
        },
        "id": "zroUlKmlJIU2",
        "outputId": "ed6e422a-4792-4bcd-9290-09240d37bad1"
      },
      "execution_count": null,
      "outputs": [
        {
          "output_type": "stream",
          "name": "stdout",
          "text": [
            "[0, 0, 0, 0, 0, 0, 0, 0, 0, 0]\n"
          ]
        }
      ]
    },
    {
      "cell_type": "code",
      "source": [
        "save_data(\"apple\",\"010-1111-1111\")"
      ],
      "metadata": {
        "id": "gEDfDBWVJJAy"
      },
      "execution_count": null,
      "outputs": []
    },
    {
      "cell_type": "code",
      "source": [
        "hash_table"
      ],
      "metadata": {
        "colab": {
          "base_uri": "https://localhost:8080/"
        },
        "id": "oZ2J97t-JQrA",
        "outputId": "3339b587-f390-4a93-f09b-6ac45e30f665"
      },
      "execution_count": null,
      "outputs": [
        {
          "output_type": "execute_result",
          "data": {
            "text/plain": [
              "[0, 0, 0, 0, 0, 0, 0, 0, 0, '010-1111-1111']"
            ]
          },
          "metadata": {},
          "execution_count": 15
        }
      ]
    },
    {
      "cell_type": "code",
      "source": [
        "read_data(\"apple\")"
      ],
      "metadata": {
        "colab": {
          "base_uri": "https://localhost:8080/",
          "height": 35
        },
        "id": "HmnwhmDmMi0z",
        "outputId": "ad7e0869-c58d-422a-cbd3-843233e1c58e"
      },
      "execution_count": null,
      "outputs": [
        {
          "output_type": "execute_result",
          "data": {
            "text/plain": [
              "'010-1111-1111'"
            ],
            "application/vnd.google.colaboratory.intrinsic+json": {
              "type": "string"
            }
          },
          "metadata": {},
          "execution_count": 16
        }
      ]
    },
    {
      "cell_type": "markdown",
      "source": [
        "# 4. 해쉬 테이블의 장단점\n",
        "* 장점\n",
        "      * 데이터 저장 및 읽기 속도가 빠름(검색 속도가 빠름)\n",
        "      * 해쉬는 키에 대한 데이터가 있는지 확인 쉬움\n",
        "* 단점\n",
        "      * 저장공간이 많이 필요함\n",
        "      * 여러키에 해당하는 주소가 동일한 경우 충돌을 해결하기 위한 별도의 자료구조가 필요함"
      ],
      "metadata": {
        "id": "MxWrc_yzPZWD"
      }
    },
    {
      "cell_type": "markdown",
      "source": [
        "# 5. 충돌 해결 알고리즘\n",
        "### 5-1. Linear Probing 기법\n",
        "* 해쉬 테이블 저장공간 안에서 충돌 문제를 해결하는 방법\n",
        "* 충돌이 일어날 경우에 Hash Address 다음 주소부터 맨 처음 나온 빈 공간에 데이터를 저장하는 방법\n",
        "* 저장공간의 활용도를 높이기 위한 방법\n",
        "* 저장공간이 부족할 경우 저장공간을 확대"
      ],
      "metadata": {
        "id": "AcYMqo8SQPAV"
      }
    },
    {
      "cell_type": "code",
      "source": [
        "hash_table = list([0 for i in range(10)])\n",
        "print(hash_table)"
      ],
      "metadata": {
        "id": "5b1z0o0mRZXj",
        "colab": {
          "base_uri": "https://localhost:8080/"
        },
        "outputId": "e4dce10d-a02d-4a45-c43d-a296d9b5a99f"
      },
      "execution_count": null,
      "outputs": [
        {
          "output_type": "stream",
          "name": "stdout",
          "text": [
            "[0, 0, 0, 0, 0, 0, 0, 0, 0, 0]\n"
          ]
        }
      ]
    },
    {
      "cell_type": "code",
      "source": [
        "def get_key(data):\n",
        "    return hash(data)\n",
        "\n",
        "def hash_function(key):\n",
        "    return key % 8\n",
        "\n",
        "def save_data(data, value):\n",
        "    index_key = get_key(data)\n",
        "    hash_address = hash_function(index_key)\n",
        "\n",
        "    if hash_table[hash_address] != 0: # 충돌일 경우\n",
        "        for index in range(hash_address, len(hash_table)):\n",
        "            if hash_table[index] == 0: # 자리가 비었다면\n",
        "                hash_table[index] = [index_key, value]\n",
        "                return # 빠져나와야\n",
        "            elif hash_table[index][0] == index_key: # 기존의 저장된 해쉬번호와 현재 저장할 해쉬번호가 같을 경우\n",
        "                hash_table[index][1] = value\n",
        "                return # 빠져나와야함\n",
        "    else: # 충돌이 아닐경우\n",
        "        hash_table[hash_address] = [index_key, value]\n",
        "\n",
        "def read_data(data):\n",
        "    index_key = get_key(data)\n",
        "    hash_address = hash_function(index_key)\n",
        "\n",
        "    if hash_table[hash_address] !=0:\n",
        "        for index in range(hash_address, len(hash_table)):\n",
        "            if hash_table[index] == 0:\n",
        "                return None\n",
        "            elif hash_table[index][0] == index_key:\n",
        "                return hash_table[index][1]\n",
        "    else:\n",
        "        return None"
      ],
      "metadata": {
        "id": "Qu-C0sSZRgYw"
      },
      "execution_count": null,
      "outputs": []
    },
    {
      "cell_type": "code",
      "source": [
        "print(hash(\"apple\")%8)  # melone\n",
        "print(hash(\"avocado\")%8)\n",
        "print(hash(\"cherry\")%8) # banana\n",
        "print(hash(\"banana\")%8)\n",
        "print(hash(\"orange\")%8)\n",
        "print(hash(\"melone\")%8)"
      ],
      "metadata": {
        "colab": {
          "base_uri": "https://localhost:8080/"
        },
        "id": "zmiJt5VhUoWC",
        "outputId": "8f7664d1-d75b-4d39-c87f-771219ce7bfb"
      },
      "execution_count": null,
      "outputs": [
        {
          "output_type": "stream",
          "name": "stdout",
          "text": [
            "5\n",
            "1\n",
            "3\n",
            "2\n",
            "5\n",
            "2\n"
          ]
        }
      ]
    },
    {
      "cell_type": "code",
      "source": [
        "save_data(\"avocado\",\"010-1111-2222\")\n",
        "save_data(\"banana\",\"010-1111-3333\")"
      ],
      "metadata": {
        "id": "MFWNfkKxU9LK"
      },
      "execution_count": null,
      "outputs": []
    },
    {
      "cell_type": "code",
      "source": [
        "hash_table"
      ],
      "metadata": {
        "colab": {
          "base_uri": "https://localhost:8080/"
        },
        "id": "6VsfUMaJVdtv",
        "outputId": "742d960c-895f-4cf6-a4a8-c2e3dea65fca"
      },
      "execution_count": null,
      "outputs": [
        {
          "output_type": "execute_result",
          "data": {
            "text/plain": [
              "[0,\n",
              " [-6888076289102463639, '010-1111-2222'],\n",
              " [5333787332796863322, '010-1111-3333'],\n",
              " 0,\n",
              " 0,\n",
              " 0,\n",
              " 0,\n",
              " 0,\n",
              " 0,\n",
              " 0]"
            ]
          },
          "metadata": {},
          "execution_count": 21
        }
      ]
    },
    {
      "cell_type": "markdown",
      "source": [
        "### 5-2. Chaining 기법\n",
        "* 해쉬 테이블 저장공간 외의 공간을 활용하는 방법\n",
        "* 충돌이 일어나면 링크드 리스트 자료구조를 사용해서 링크드 리스트로 데이터를 추가로 뒤에 연결시켜  저장하는 방법"
      ],
      "metadata": {
        "id": "ls-BsDdSkgbJ"
      }
    },
    {
      "cell_type": "code",
      "source": [
        "hash_table = list([0 for i in range(10)])"
      ],
      "metadata": {
        "id": "hfja8PHNlwPU"
      },
      "execution_count": null,
      "outputs": []
    },
    {
      "cell_type": "code",
      "source": [
        "def get_key(data):\n",
        "    return hash(data)\n",
        "\n",
        "def hash_function(key):\n",
        "    return key % 10\n",
        "\n",
        "def save_data(data, value):\n",
        "    index_key = get_key(data)\n",
        "    hash_address = hash_function(index_key)\n",
        "    if hash_table[hash_address] != 0:\n",
        "        for index in range(len(hash_table[hash_address])):\n",
        "            if hash_table[hash_address][index][0] == index_key:\n",
        "                hash_table[hash_address][index][1] = value\n",
        "                return\n",
        "        hash_table[hash_address].append([index_key, value])\n",
        "    else:\n",
        "        hash_table[hash_address] = [[index_key, value]]\n",
        "\n",
        "def read_data(data):\n",
        "    index_key = get_key(data)\n",
        "    hash_address = hash_function(index_key)\n",
        "    if hash_table[hash_address] !=0:\n",
        "        for index in range(len(hash_table[hash_address])):\n",
        "            if hash_table[hash_address][index][0] == index_key:\n",
        "                return hash_table[hash_address][index][1]\n",
        "    else:\n",
        "        return None"
      ],
      "metadata": {
        "id": "fI008Qfll541"
      },
      "execution_count": null,
      "outputs": []
    },
    {
      "cell_type": "code",
      "source": [
        "print(hash(\"apple\")%10)\n",
        "print(hash(\"avocado\")%10)\n",
        "print(hash(\"cherry\")%10)\n",
        "print(hash(\"banana\")%10)\n",
        "print(hash(\"melon\")%10)"
      ],
      "metadata": {
        "colab": {
          "base_uri": "https://localhost:8080/"
        },
        "id": "9Cwe_xXotVJ2",
        "outputId": "b1a60d86-e051-4c0b-e228-83e52a9f2fff"
      },
      "execution_count": null,
      "outputs": [
        {
          "output_type": "stream",
          "name": "stdout",
          "text": [
            "9\n",
            "1\n",
            "3\n",
            "2\n",
            "8\n"
          ]
        }
      ]
    },
    {
      "cell_type": "code",
      "source": [
        "save_data(\"avocaod\",\"010-1111-2222\")\n",
        "save_data(\"bananna\",\"010-2222-2222\")"
      ],
      "metadata": {
        "id": "o8ncLyp9tiIa"
      },
      "execution_count": null,
      "outputs": []
    },
    {
      "cell_type": "code",
      "source": [
        "hash_table"
      ],
      "metadata": {
        "colab": {
          "base_uri": "https://localhost:8080/"
        },
        "id": "zch-shDKtuOT",
        "outputId": "1af6b286-d4ce-4aeb-e978-2b4f621e0462"
      },
      "execution_count": null,
      "outputs": [
        {
          "output_type": "execute_result",
          "data": {
            "text/plain": [
              "[[[1916540610425522730, '010-2222-2222']],\n",
              " 0,\n",
              " 0,\n",
              " 0,\n",
              " 0,\n",
              " [[654284938945658115, '010-1111-2222']],\n",
              " 0,\n",
              " 0,\n",
              " 0,\n",
              " 0]"
            ]
          },
          "metadata": {},
          "execution_count": 28
        }
      ]
    },
    {
      "cell_type": "code",
      "source": [
        "read_data(\"avocaod\")"
      ],
      "metadata": {
        "colab": {
          "base_uri": "https://localhost:8080/",
          "height": 35
        },
        "id": "VYTdGbNLxO15",
        "outputId": "5cb6fc08-9fd0-4453-d5fd-1b84f19f9a8f"
      },
      "execution_count": null,
      "outputs": [
        {
          "output_type": "execute_result",
          "data": {
            "text/plain": [
              "'010-1111-2222'"
            ],
            "application/vnd.google.colaboratory.intrinsic+json": {
              "type": "string"
            }
          },
          "metadata": {},
          "execution_count": 29
        }
      ]
    },
    {
      "cell_type": "markdown",
      "source": [
        "# 6.해쉬 함수와 키 생성 함수\n",
        "* SHA(secure Hash Algorithm, 안전한 해쉬 알고리즘)와 같은 유명한 해쉬 알고리즘도 많이 사요\n",
        "\n",
        "* 어떤 데이터도 유일한 고정된 크기의 고정값을 리턴해주므로 해쉬 함수로 유용하게 활용할 수 있으"
      ],
      "metadata": {
        "id": "0rrwrMp9zHuA"
      }
    },
    {
      "cell_type": "markdown",
      "source": [
        "###6-1 SHA-1\n",
        "\n",
        "* 임의의 길이의 입력데이터 최대 160비트(20바이트, 16진수 40자리)의 출력데이터(해시값)로 바꿈\n",
        "\n",
        "* 파이썬 hash()함수는 환경에 따라 값이 달아질 수 있음"
      ],
      "metadata": {
        "id": "usjF4geZzptJ"
      }
    },
    {
      "cell_type": "markdown",
      "source": [
        "컴퓨터 용랑 단위\n",
        "*1bit: 0 또는 1\n",
        "*8bit: 1byte\n",
        "*1024byte:1KB\n",
        "*1024KB:1MB\n",
        "*1024MB:1GB\n",
        "*1024GB:1TB\n",
        "*1024TB:1PB\n",
        "\n",
        "---\n",
        "\n"
      ],
      "metadata": {
        "id": "THnni1x50A1l"
      }
    },
    {
      "cell_type": "code",
      "source": [
        "import hashlib"
      ],
      "metadata": {
        "id": "Ub6H7nsJ0a9E"
      },
      "execution_count": null,
      "outputs": []
    },
    {
      "cell_type": "code",
      "source": [
        "data = \"test\".encode() # test 문자열을 바이트 단위로 변화ㄴ\n",
        "print(data)\n",
        "hash_object = hashlib.sha1()\n",
        "print(hash_object)\n",
        "hash_object.update(data) # sha-1 객체로 data를 읽어옴\n",
        "hex_dig = hash_object.hexdigest()\n",
        "print(hex_dig,len(hex_dig))\n",
        "print(int(hex_dig,16)) # 16진수로 고정된 해쉬값을 10진수의 고정된 해쉬값으로 변환"
      ],
      "metadata": {
        "colab": {
          "base_uri": "https://localhost:8080/"
        },
        "id": "MXEh7Diz0exb",
        "outputId": "31bc59b0-2923-4603-d9f9-22c334d6fa4e"
      },
      "execution_count": null,
      "outputs": [
        {
          "output_type": "stream",
          "name": "stdout",
          "text": [
            "b'test'\n",
            "<sha1 HASH object @ 0x7f58481e9b90>\n",
            "a94a8fe5ccb19ba61c4c0873d391e987982fbbd3 40\n",
            "966482230667555116936258103322711973649032657875\n"
          ]
        }
      ]
    },
    {
      "cell_type": "markdown",
      "source": [
        "### 6-2. SHA-256\n",
        "* SHA 알고리즘의 한 종류로 256비트로 구성되어 64자리 16진수를 반환\n",
        "* SHA-2 계열 중 하나이며, 블록체인에서 가장 많이 채택하여 사용"
      ],
      "metadata": {
        "id": "BuPC0cLh2Lhn"
      }
    },
    {
      "cell_type": "code",
      "source": [
        "data = \"test\".encode()\n",
        "print(data)\n",
        "hash_object = hashlib.sha256()\n",
        "print(hash_object)\n",
        "hash_object.update(data)\n",
        "hex_dig = hash_object.hexdigest()\n",
        "print(hex_dig,len(hex_dig))\n",
        "print(int(hex_dig,16))"
      ],
      "metadata": {
        "colab": {
          "base_uri": "https://localhost:8080/"
        },
        "id": "vgfimXHc39PT",
        "outputId": "d1a57acd-4f1a-48a4-9528-887c2b07434d"
      },
      "execution_count": null,
      "outputs": [
        {
          "output_type": "stream",
          "name": "stdout",
          "text": [
            "b'test'\n",
            "<sha256 HASH object @ 0x7f58481e9c50>\n",
            "9f86d081884c7d659a2feaa0c55ad015a3bf4f1b2b0b822cd15d6c15b0f00a08 64\n",
            "72155939486846849509759369733266486982821795810448245423168957390607644363272\n"
          ]
        }
      ]
    },
    {
      "cell_type": "markdown",
      "source": [
        "### 문제\n",
        "Chaining 기법을 적용한 해쉬 테이블 코드에 키 생성함수 sha256 해쉬 알고리즘을 사용하도록 변경해보자\n",
        "\n",
        "1.해쉬 함수:key%10\n",
        "2.해쉬 키 생성:sha256(data)"
      ],
      "metadata": {
        "id": "QdkdHl5e4VtK"
      }
    },
    {
      "cell_type": "code",
      "source": [
        "import hashlib\n",
        "\n",
        "hash_table = list([0 for i in range(10)])\n",
        "\n",
        "def get_key(data):\n",
        "    hash_object=hashlib.sha256()\n",
        "    hash_object.update(data.encode())\n",
        "    hex_dig = hash_object.hexdigest()\n",
        "    return hex_dig\n",
        "\n",
        "def hash_function(key):\n",
        "    return key % 10\n",
        "\n",
        "def save_data(data, value):\n",
        "    index_key = get_key(data)\n",
        "    hash_address = hash_function(index_key)\n",
        "    if hash_table[hash_address] != 0:\n",
        "        for index in range(len(hash_table[hash_address])):\n",
        "            if hash_table[hash_address][index][0] == index_key:\n",
        "                hash_table[hash_address][index][1] = value\n",
        "                return\n",
        "        hash_table[hash_address].append([index_key, value])\n",
        "    else:\n",
        "        hash_table[hash_address] = [[index_key, value]]\n",
        "\n",
        "def read_data(data):\n",
        "    index_key = get_key(data)\n",
        "    hash_address = hash_function(index_key)\n",
        "    if hash_table[hash_address] !=0:\n",
        "        for index in range(len(hash_table[hash_address])):\n",
        "            if hash_table[hash_address][index][0] == index_key:\n",
        "                return hash_table[hash_address][index][1]\n",
        "    else:\n",
        "        return None"
      ],
      "metadata": {
        "id": "iKf5FhiP4HiB"
      },
      "execution_count": null,
      "outputs": []
    },
    {
      "cell_type": "code",
      "source": [
        "save_data(\"avocaod\",\"010-1111-2222\")\n",
        "save_data(\"bananna\",\"010-2222-2222\")"
      ],
      "metadata": {
        "id": "3hsVqsbT9AaF"
      },
      "execution_count": null,
      "outputs": []
    },
    {
      "cell_type": "code",
      "source": [
        "hash_table"
      ],
      "metadata": {
        "id": "LQYNjscN9L3P"
      },
      "execution_count": null,
      "outputs": []
    },
    {
      "cell_type": "code",
      "source": [
        "read_data(\"cherry\")"
      ],
      "metadata": {
        "id": "tcji36OB9OZh"
      },
      "execution_count": null,
      "outputs": []
    }
  ]
}
