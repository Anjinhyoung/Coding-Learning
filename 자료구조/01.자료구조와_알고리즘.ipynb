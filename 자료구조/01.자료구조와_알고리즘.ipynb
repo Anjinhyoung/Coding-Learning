{
  "nbformat": 4,
  "nbformat_minor": 0,
  "metadata": {
    "colab": {
      "provenance": [],
      "authorship_tag": "ABX9TyNn/NlcWx0TjuZ8RYwmdHXh",
      "include_colab_link": true
    },
    "kernelspec": {
      "name": "python3",
      "display_name": "Python 3"
    },
    "language_info": {
      "name": "python"
    }
  },
  "cells": [
    {
      "cell_type": "markdown",
      "metadata": {
        "id": "view-in-github",
        "colab_type": "text"
      },
      "source": [
        "<a href=\"https://colab.research.google.com/github/Anjinhyoung/Coding-Learning/blob/main/1_%EC%9E%90%EB%A3%8C%EA%B5%AC%EC%A1%B0%EC%99%80_%EC%95%8C%EA%B3%A0%EB%A6%AC%EC%A6%98.ipynb\" target=\"_parent\"><img src=\"https://colab.research.google.com/assets/colab-badge.svg\" alt=\"Open In Colab\"/></a>"
      ]
    },
    {
      "cell_type": "markdown",
      "source": [
        "# 1. 자료구조\n",
        "* 코드상에서 효율적으로 데이터를 처리하기 위해, 데이터의 특징에 따라 체계적으로 구조화하여 저장   \n",
        "* 대표적으로 자료구조는 배열, 스택, 링크리스트, 해쉬테이블, 힙 등 ..."
      ],
      "metadata": {
        "id": "Q_oUXtktgqkJ"
      }
    },
    {
      "cell_type": "markdown",
      "source": [
        "# 2. 알고리즘\n",
        "* 어떤 문제를 풀기 위한 절차 및 방법\n",
        "* 입력을 넣으면 원하는 출력을 얻을 수 있도록 만든 프로그램"
      ],
      "metadata": {
        "id": "kuuDgeryjK37"
      }
    },
    {
      "cell_type": "markdown",
      "source": [
        "# 3. 자료구조와 알고리즘이 중요한 이유\n",
        "* 어떤 자료구조와 알고리즘을 사용하느냐에 따라 프로그램의 성능 차이가 큼"
      ],
      "metadata": {
        "id": "INAdMiljkXOv"
      }
    },
    {
      "cell_type": "markdown",
      "source": [
        "# 4. 파이썬을 활용한 자료구조와 알고리즘\n",
        "* 어떤 언어로든 자료구조와 알고리즘은 익힐 수 있음\n",
        "* 가장 쉽고 빠르게 자료구조/ 알고리즘을 익힐 수가 있고 평가할 수 있는 언어는 파이썬"
      ],
      "metadata": {
        "id": "G5Fk0YUnlHcq"
      }
    }
  ]
}





