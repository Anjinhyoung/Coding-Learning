{
  "nbformat": 4,
  "nbformat_minor": 0,
  "metadata": {
    "colab": {
      "provenance": [],
      "authorship_tag": "ABX9TyOjRlOvf4SGCidCq6hV/EJ+",
      "include_colab_link": true
    },
    "kernelspec": {
      "name": "python3",
      "display_name": "Python 3"
    },
    "language_info": {
      "name": "python"
    }
  },
  "cells": [
    {
      "cell_type": "markdown",
      "metadata": {
        "id": "view-in-github",
        "colab_type": "text"
      },
      "source": [
        "<a href=\"https://colab.research.google.com/github/Anjinhyoung/Coding-Learning/blob/main/Copy_of_03_%ED%81%90.ipynb\" target=\"_parent\"><img src=\"https://colab.research.google.com/assets/colab-badge.svg\" alt=\"Open In Colab\"/></a>"
      ]
    },
    {
      "cell_type": "markdown",
      "source": [
        "# 1. 큐\n",
        "* 가장 먼저 넣은 데이터를 가장 먼저 꺼낼 수 있는 구조\n",
        "* 인덱스 번호가 없음\n",
        "* 줄을 서는 행위와 유사\n",
        "* FIFO (First-In, First-Out)"
      ],
      "metadata": {
        "id": "rFIfVUVOuhw3"
      }
    },
    {
      "cell_type": "markdown",
      "source": [
        "### 1-1. 큐의 사용\n",
        "* 멀티테스킹을 위한 프로세스 스케줄링 방식을 구현(운영체제)\n",
        "* 푸시메세지"
      ],
      "metadata": {
        "id": "qFN81zKivHUE"
      }
    },
    {
      "cell_type": "markdown",
      "source": [
        "### 1-2. 큐의 용어\n",
        "* Enqueue: 큐에 데이터를 넣는 기능\n",
        "* Dequeue: 큐에 데이터를 꺼내는 기능\n",
        "* [VisiualGo]https://visualgo.net/en/list)"
      ],
      "metadata": {
        "id": "JEUOl7oXwdkA"
      }
    },
    {
      "cell_type": "markdown",
      "source": [
        "### 1-3. queue 라이브러리를 활용\n",
        "* Queue(): 가장 일반적인 큐 자료구조\n",
        "생성\n",
        "* LifoQueue(): 나중에 입력된 데이터가 먼저 출력되는 구조 (파이썬에만 있음)\n",
        "* PriorityQueue(): 데이터마다 우선순위를 넣어서 우선순위가 높은 순으로 데이터를 출력력(파이썬에만 있음)"
      ],
      "metadata": {
        "id": "A9AkBQkLxnFi"
      }
    },
    {
      "cell_type": "markdown",
      "source": [],
      "metadata": {
        "id": "ECaYiOdIy0Ls"
      }
    },
    {
      "cell_type": "code",
      "source": [
        "import queue\n",
        "\n",
        "data_queue = queue.Queue()\n",
        "data_queue.put(\"apple\") # Enqueue\n",
        "print(data_queue)\n",
        "print(data_queue.qsize())\n",
        "data_queue.put(\"banana\") # Enqueue\n",
        "print(data_queue.qsize())\n",
        "print(data_queue.get()) #Dequeue\n",
        "print(data_queue.qsize())\n",
        "print(data_queue.get()) #Dequeue\n",
        "print(data_queue.qsize())"
      ],
      "metadata": {
        "colab": {
          "base_uri": "https://localhost:8080/"
        },
        "id": "t7-5uPPcy9gW",
        "outputId": "584524c4-4f09-4338-f8e3-1726214171c4"
      },
      "execution_count": null,
      "outputs": [
        {
          "output_type": "stream",
          "name": "stdout",
          "text": [
            "<queue.Queue object at 0x7f2ab4f56070>\n",
            "1\n",
            "2\n",
            "apple\n",
            "1\n",
            "banana\n",
            "0\n"
          ]
        }
      ]
    },
    {
      "cell_type": "code",
      "source": [
        "import queue\n",
        "\n",
        "data_queue = queue.Queue()\n",
        "data_queue.put(\"apple\") # Enqueue\n",
        "print(data_queue)\n",
        "print(data_queue.qsize())\n",
        "data_queue.put(\"banana\") # Enqueue\n",
        "print(data_queue.qsize())\n",
        "temp=data_queue.get()\n",
        "print(temp)\n",
        "print(data_queue.get())"
      ],
      "metadata": {
        "colab": {
          "base_uri": "https://localhost:8080/"
        },
        "id": "OOPwUedl3Rmb",
        "outputId": "d0d37665-5c26-48d4-8a39-26831b3abfbb"
      },
      "execution_count": null,
      "outputs": [
        {
          "output_type": "stream",
          "name": "stdout",
          "text": [
            "<queue.Queue object at 0x7f2ab4f4c310>\n",
            "1\n",
            "2\n",
            "apple\n",
            "banana\n"
          ]
        }
      ]
    },
    {
      "cell_type": "code",
      "source": [
        "data_queue.put('apple')\n",
        "data_queue.put('김사과')\n",
        "data_queue.put(160.5)\n",
        "data_queue.put(True)\n",
        "print(data_queue.qsize())"
      ],
      "metadata": {
        "colab": {
          "base_uri": "https://localhost:8080/"
        },
        "id": "v09O-4Gt3rm7",
        "outputId": "ff86532c-8129-40cb-e3c5-d83b24a8e3e8"
      },
      "execution_count": null,
      "outputs": [
        {
          "output_type": "stream",
          "name": "stdout",
          "text": [
            "4\n"
          ]
        }
      ]
    },
    {
      "cell_type": "code",
      "source": [
        "for _ in range(data_queue.qsize()):\n",
        "  item=data_queue.get()\n",
        "  print(item)"
      ],
      "metadata": {
        "colab": {
          "base_uri": "https://localhost:8080/"
        },
        "id": "zSqZT7Om4Lpd",
        "outputId": "248f4521-920f-4408-b93c-1c23ce0cd4a8"
      },
      "execution_count": null,
      "outputs": [
        {
          "output_type": "stream",
          "name": "stdout",
          "text": [
            "apple\n",
            "김사과\n",
            "160.5\n",
            "True\n"
          ]
        }
      ]
    },
    {
      "cell_type": "code",
      "source": [
        "data_queue=queue.LifoQueue()\n",
        "data_queue.put(\"apple\")\n",
        "data_queue.put(\"김사과\")\n",
        "data_queue.put(160.5)\n",
        "data_queue.put(True)\n",
        "print(data_queue.qsize())\n",
        "print(data_queue.get())"
      ],
      "metadata": {
        "colab": {
          "base_uri": "https://localhost:8080/"
        },
        "id": "AECSvH9o_MhI",
        "outputId": "23ed0c7a-ff4e-4ecc-b38e-c9b434bc30c7"
      },
      "execution_count": null,
      "outputs": [
        {
          "output_type": "stream",
          "name": "stdout",
          "text": [
            "4\n"
          ]
        }
      ]
    },
    {
      "cell_type": "code",
      "source": [
        "# 숫자가 작을수록 우선순위가 높음\n",
        "data_queue=queue.PriorityQueue()\n",
        "data_queue.put(10,\"apple\")\n",
        "data_queue.put(5,\"a\")\n",
        "data_queue.put(6,\"ae\")\n",
        "data_queue.put(0,\"e\")\n",
        "print(data_queue.qsize())\n",
        "print(data_queue.get())\n",
        "print(data_queue.get())"
      ],
      "metadata": {
        "colab": {
          "base_uri": "https://localhost:8080/"
        },
        "id": "Ymzo2Jy4_vKp",
        "outputId": "5f27becd-47ae-44be-866f-3542ce28b05f"
      },
      "execution_count": null,
      "outputs": [
        {
          "output_type": "stream",
          "name": "stdout",
          "text": [
            "4\n",
            "0\n",
            "5\n"
          ]
        }
      ]
    }
  ]
}
