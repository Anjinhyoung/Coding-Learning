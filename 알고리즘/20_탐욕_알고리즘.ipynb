{
  "nbformat": 4,
  "nbformat_minor": 0,
  "metadata": {
    "colab": {
      "provenance": [],
      "authorship_tag": "ABX9TyMPM1ngsnQOS35JoMHzyj+Z",
      "include_colab_link": true
    },
    "kernelspec": {
      "name": "python3",
      "display_name": "Python 3"
    },
    "language_info": {
      "name": "python"
    }
  },
  "cells": [
    {
      "cell_type": "markdown",
      "metadata": {
        "id": "view-in-github",
        "colab_type": "text"
      },
      "source": [
        "<a href=\"https://colab.research.google.com/github/Anjinhyoung/Coding-Learning/blob/main/20_%ED%83%90%EC%9A%95_%EC%95%8C%EA%B3%A0%EB%A6%AC%EC%A6%98.ipynb\" target=\"_parent\"><img src=\"https://colab.research.google.com/assets/colab-badge.svg\" alt=\"Open In Colab\"/></a>"
      ]
    },
    {
      "cell_type": "markdown",
      "source": [
        "# 1.탐욕 알고리즘\n",
        "* 최적의 해에 가까운 값을 구하기 위해 사용\n",
        "* 근사치 추정에 활용\n",
        "* 반드시 최적의 해를 구할 수 있는 것은 아님\n",
        "* 여러 경우  중  하나를 결정해야 할 때 매 순간 최적이라고 생각되는 경우를 선택하는 방식으로 최종적인 값을 구하는 방식"
      ],
      "metadata": {
        "id": "YjbUy5l1FngI"
      }
    },
    {
      "cell_type": "markdown",
      "source": [
        "# 2. 탐욕 알고리즘 예\n",
        "\n",
        "### 2-1 동전 문제\n",
        "* 지불해야 하는 값이 4720원일 때 1원, 50원, 100원, 500원 동전으로 동전의 수가 가장 적게 지불하는 방법\n",
        "  * 가장 큰 동전부터 최대한 지불해야 하는 값을 채우는 방식으로 구현\n",
        "  * 탐욕 알고리즘으로 매 순간 최적이라고 생각되는 경우를 선택하면 됨\n"
      ],
      "metadata": {
        "id": "7jMcxcqEF-E-"
      }
    },
    {
      "cell_type": "code",
      "source": [
        "coin_list = [1,100,50,500]"
      ],
      "metadata": {
        "id": "hZAU6wjxGZMc"
      },
      "execution_count": null,
      "outputs": []
    },
    {
      "cell_type": "code",
      "source": [
        "def min_coin_count(value, coin_list):\n",
        "    total_coin_count = 0\n",
        "    details = list()\n",
        "    coin_list.sort(reverse = True)\n",
        "    for coin in coin_list:\n",
        "        coin_num = value // coin\n",
        "        total_coin_count +=coin_num\n",
        "        value -=coin_num * coin\n",
        "        details.append([coin,coin_num])\n",
        "    return total_coin_count, details"
      ],
      "metadata": {
        "id": "757XRA0LGdSU"
      },
      "execution_count": null,
      "outputs": []
    },
    {
      "cell_type": "code",
      "source": [
        "min_coin_count(4720,coin_list)"
      ],
      "metadata": {
        "colab": {
          "base_uri": "https://localhost:8080/"
        },
        "id": "BtC454wvHUXY",
        "outputId": "caa3f854-9789-4079-82b6-32fe7f2ee1ad"
      },
      "execution_count": null,
      "outputs": [
        {
          "output_type": "execute_result",
          "data": {
            "text/plain": [
              "(31, [[500, 9], [100, 2], [50, 0], [1, 20]])"
            ]
          },
          "metadata": {},
          "execution_count": 3
        }
      ]
    },
    {
      "cell_type": "markdown",
      "source": [
        "### 과제\n",
        "2의 n승을 이용하여 10진수를 2진수로 변경하는 알고리즘을 구현햅자자"
      ],
      "metadata": {
        "id": "mtRTOxggIIz9"
      }
    },
    {
      "cell_type": "markdown",
      "source": [
        "# 3. 추가로 공부하면 좋을 알고리즘\n",
        "* 최단 경로 알고리즘(다익스트라 알고리즘,플로이드 워설 알고리즘)\n",
        "* 최소 신장 트리 알고리즘"
      ],
      "metadata": {
        "id": "GQmP4qzPIVjn"
      }
    }
  ]
}
