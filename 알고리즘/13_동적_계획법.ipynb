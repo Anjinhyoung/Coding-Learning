{
  "nbformat": 4,
  "nbformat_minor": 0,
  "metadata": {
    "colab": {
      "provenance": [],
      "authorship_tag": "ABX9TyMdGg2ebmUL6uR8kZpWKnt2",
      "include_colab_link": true
    },
    "kernelspec": {
      "name": "python3",
      "display_name": "Python 3"
    },
    "language_info": {
      "name": "python"
    }
  },
  "cells": [
    {
      "cell_type": "markdown",
      "metadata": {
        "id": "view-in-github",
        "colab_type": "text"
      },
      "source": [
        "<a href=\"https://colab.research.google.com/github/Anjinhyoung/Coding-Learning/blob/main/13_%EB%8F%99%EC%A0%81_%EA%B3%84%ED%9A%8D%EB%B2%95.ipynb\" target=\"_parent\"><img src=\"https://colab.research.google.com/assets/colab-badge.svg\" alt=\"Open In Colab\"/></a>"
      ]
    },
    {
      "cell_type": "markdown",
      "source": [
        "# 1. 동적 계획법\n",
        "* 입력 크기가 작은 부분 문제들을 해결한 후 해당 부분의 값을 활용하여 보다 큰 크기의 부분 문제를 해결. 최종적으로 전체 문제를 해결하는 알고리즘\n",
        "\n",
        "* 상향식 접근법(최하위 해답을 구한 후 해당 결과를 이용해서 상위 문제를 풀어가는 방식)\n",
        "* 프로그램 실행시 이전의 계산한 값을 저장하여 다시 계산하지 않도록 전체\n",
        "실행 속도를 빠르게 하는 기술\n",
        "(메모이제이션: Memoization)을 사용\n",
        "* 문제를 잘게 쪼갤 때 부분 문제는 중복되기 때문에 재활용(예: 피보나치 수열)"
      ],
      "metadata": {
        "id": "_1LhrxsDIxMe"
      }
    },
    {
      "cell_type": "markdown",
      "source": [
        "#2. 동적 계획법 알고리즘\n",
        "* 피보나치 수열 n을 입력받아서 아래와 같이 계산\n",
        "\n",
        "* [피보나치 수열](https://namu.wiki/w/%ED%94%BC%EB%B3%B4%EB%82%98%EC%B9%98%20%EC%88%98%EC%97%B4)\n",
        "\n",
        "```\n",
        "함수를 '피보나치'라고 한다면\n",
        "피보나치(0):0\n",
        "피보나치(1):1\n",
        "피보나치(2):1\n",
        "피보나치(3):2\n",
        "피보나치(4):3\n",
        "피보나치(5):5\n",
        "피보나치(6):8\n",
        "```"
      ],
      "metadata": {
        "id": "xTIAjZfPJeDZ"
      }
    },
    {
      "cell_type": "markdown",
      "source": [
        "### 2-1. 재귀호출 활용\n"
      ],
      "metadata": {
        "id": "2CP0vm6XKIK-"
      }
    },
    {
      "cell_type": "code",
      "source": [
        "def fibonacci(num):\n",
        "    if num<=1:\n",
        "        return num\n",
        "    return fibonacci(num-1) + fibonacci(num-2)"
      ],
      "metadata": {
        "id": "ehOIYhVQKLUi"
      },
      "execution_count": null,
      "outputs": []
    },
    {
      "cell_type": "code",
      "source": [
        "fibonacci(6)"
      ],
      "metadata": {
        "colab": {
          "base_uri": "https://localhost:8080/"
        },
        "id": "b1MI7W_rLDjO",
        "outputId": "9ceb3990-3ea0-4aa9-babc-13475d997c44"
      },
      "execution_count": null,
      "outputs": [
        {
          "output_type": "execute_result",
          "data": {
            "text/plain": [
              "8"
            ]
          },
          "metadata": {},
          "execution_count": 11
        }
      ]
    },
    {
      "cell_type": "markdown",
      "source": [
        "### 2-2 동적 계획법 활용\n"
      ],
      "metadata": {
        "id": "eAkjCrSWLMnk"
      }
    },
    {
      "cell_type": "code",
      "source": [
        "def fibonacci(num):\n",
        "    cache = [0 for index in range(num+1)]\n",
        "    #print(cache)\n",
        "    cache[0] = 0\n",
        "    cache[1] = 1\n",
        "\n",
        "    for index in range(2,num+1):\n",
        "        cache[index] = cache[index-1] + cache[index-2]\n",
        "    return cache[num]"
      ],
      "metadata": {
        "id": "CswEcchyLP4O"
      },
      "execution_count": null,
      "outputs": []
    },
    {
      "cell_type": "code",
      "source": [
        "fibonacci(6)"
      ],
      "metadata": {
        "colab": {
          "base_uri": "https://localhost:8080/"
        },
        "id": "r6ZrJWpoLdjb",
        "outputId": "848a653d-09ca-4c4a-f030-0206e469fea0"
      },
      "execution_count": null,
      "outputs": [
        {
          "output_type": "execute_result",
          "data": {
            "text/plain": [
              "8"
            ]
          },
          "metadata": {},
          "execution_count": 13
        }
      ]
    },
    {
      "cell_type": "markdown",
      "source": [
        "### 문제\n",
        "아래 코딩 테스트 문제의 답을 작성해보자\n",
        "* [문제](https://www.acmicpc.net/problem/11726)"
      ],
      "metadata": {
        "id": "0XIWQ-kKPWsT"
      }
    },
    {
      "cell_type": "code",
      "source": [
        "tile = [0 for index in range(1001)]\n",
        "tile[1] = 1\n",
        "tile[2] = 2\n",
        "n = int(input())\n",
        "for index in range(3,1001):\n",
        "    tile[index] = tile[index-1] + tile[index-2]\n",
        "\n",
        "print(tile[n] % 10007)\n"
      ],
      "metadata": {
        "id": "umTalUJRTG6F"
      },
      "execution_count": null,
      "outputs": []
    },
    {
      "cell_type": "markdown",
      "source": [
        "> 일반적인 동적 계획법 문제는 가장 적은 경우의 수부터 계산해 본 후, 패턴을\n",
        "찾아 식을 세우는 것이 핵심!"
      ],
      "metadata": {
        "id": "6Yc4qKG9Trdj"
      }
    },
    {
      "cell_type": "code",
      "source": [
        "def fibonacci(num):\n",
        "    cache = [0 for index in range(num+1)]\n",
        "    cache[0] = 0\n",
        "    cache[1] = 1\n",
        "\n",
        "    for index in range(2,num+1):\n",
        "        cache[index] = cache[index-1] + cache[index-2]\n",
        "    return cache[num]"
      ],
      "metadata": {
        "id": "YpgH-pQ6c_rD"
      },
      "execution_count": null,
      "outputs": []
    },
    {
      "cell_type": "code",
      "source": [
        "fibonacci(7)"
      ],
      "metadata": {
        "colab": {
          "base_uri": "https://localhost:8080/"
        },
        "id": "javrrkUc8KZR",
        "outputId": "1440afa2-c6cd-4a3e-e0f5-9d06e2d0ad81"
      },
      "execution_count": null,
      "outputs": [
        {
          "output_type": "stream",
          "name": "stdout",
          "text": [
            "[1, 1, 0, 0, 0, 0, 0, 0]\n"
          ]
        },
        {
          "output_type": "execute_result",
          "data": {
            "text/plain": [
              "21"
            ]
          },
          "metadata": {},
          "execution_count": 9
        }
      ]
    },
    {
      "cell_type": "code",
      "source": [],
      "metadata": {
        "colab": {
          "base_uri": "https://localhost:8080/",
          "height": 149
        },
        "id": "AlqA6ZGX8RnY",
        "outputId": "d8586d51-1cd4-45c0-fffd-5f85ecf848f4"
      },
      "execution_count": null,
      "outputs": [
        {
          "output_type": "error",
          "ename": "TypeError",
          "evalue": "'int' object is not callable",
          "traceback": [
            "\u001b[0;31m---------------------------------------------------------------------------\u001b[0m",
            "\u001b[0;31mTypeError\u001b[0m                                 Traceback (most recent call last)",
            "\u001b[0;32m<ipython-input-3-b648ea9f8545>\u001b[0m in \u001b[0;36m<cell line: 1>\u001b[0;34m()\u001b[0m\n\u001b[0;32m----> 1\u001b[0;31m \u001b[0mprint\u001b[0m\u001b[0;34m(\u001b[0m\u001b[0ma\u001b[0m\u001b[0;34m(\u001b[0m\u001b[0;36m6\u001b[0m\u001b[0;34m)\u001b[0m\u001b[0;34m)\u001b[0m\u001b[0;34m\u001b[0m\u001b[0;34m\u001b[0m\u001b[0m\n\u001b[0m",
            "\u001b[0;31mTypeError\u001b[0m: 'int' object is not callable"
          ]
        }
      ]
    },
    {
      "cell_type": "code",
      "source": [
        "'''\n",
        " [0, 1, 0, 0, 0, 0]\n",
        "\n",
        "매개변수 num에 6을 넣으면:\n",
        "[0, 1, (0+1), 0, 0, 0] => [0, 1, 2, 0, 0, 0]\n",
        "[0, 1, 2, (1+2), 0, 0] => [0, 1, 2, 3, 0, 0]\n",
        "[0, 1, 2, 3, (2+3), 0] => [0, 1, 2, 3, 5, 0]\n",
        "[0, 1, 2, 3, 5, (3+5)] => [0, 1, 2, 3, 5, 8]\n",
        "'''"
      ],
      "metadata": {
        "id": "e95RLQkIfLxs"
      },
      "execution_count": null,
      "outputs": []
    },
    {
      "cell_type": "code",
      "source": [
        "def binomial_coefficient(n, k):\n",
        "    # 2차원 배열 초기화\n",
        "    dp = [[0] * (k + 1) for _ in range(n + 1)]\n",
        "\n",
        "    # base case 설정\n",
        "    for i in range(n + 1):\n",
        "        dp[i][0] = 1\n",
        "\n",
        "    # 동적 계획법을 이용하여 이항 계수 계산\n",
        "    for i in range(1, n + 1):\n",
        "        for j in range(1, min(i, k) + 1):\n",
        "            dp[i][j] = dp[i - 1][j - 1] + dp[i - 1][j]\n",
        "\n",
        "    return dp[n][k]\n",
        "\n",
        "# 예시: 5 choose 2 계산\n",
        "n = 5\n",
        "k = 2\n",
        "result = binomial_coefficient(n, k)\n",
        "print(f\"{n} choose {k} = {result}\")"
      ],
      "metadata": {
        "colab": {
          "base_uri": "https://localhost:8080/"
        },
        "id": "al2n0Prgr0T6",
        "outputId": "00a3d9d6-27a9-4cd6-b9d0-93a8071ae3d8"
      },
      "execution_count": null,
      "outputs": [
        {
          "output_type": "stream",
          "name": "stdout",
          "text": [
            "5 choose 2 = 10\n"
          ]
        }
      ]
    }
  ]
}
