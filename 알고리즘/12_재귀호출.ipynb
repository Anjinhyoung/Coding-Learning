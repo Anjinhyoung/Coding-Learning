{
  "nbformat": 4,
  "nbformat_minor": 0,
  "metadata": {
    "colab": {
      "provenance": [],
      "authorship_tag": "ABX9TyNNoedUN9poZ7Qa6Glcmn52",
      "include_colab_link": true
    },
    "kernelspec": {
      "name": "python3",
      "display_name": "Python 3"
    },
    "language_info": {
      "name": "python"
    }
  },
  "cells": [
    {
      "cell_type": "markdown",
      "metadata": {
        "id": "view-in-github",
        "colab_type": "text"
      },
      "source": [
        "<a href=\"https://colab.research.google.com/github/Anjinhyoung/Coding-Learning/blob/main/12_%EC%9E%AC%EA%B7%80%ED%98%B8%EC%B6%9C.ipynb\" target=\"_parent\"><img src=\"https://colab.research.google.com/assets/colab-badge.svg\" alt=\"Open In Colab\"/></a>"
      ]
    },
    {
      "cell_type": "markdown",
      "source": [
        "# 1. 재귀 호출()\n",
        "* 함수 안에서 동일한 함수를 호출하는 형태\n",
        "* 여러 알고리즘,고급 정렬 알고리즘 작성시 자주 사용됨"
      ],
      "metadata": {
        "id": "drWmuY0-Uudi"
      }
    },
    {
      "cell_type": "markdown",
      "source": [
        "#### 1-1. 재귀 호출 분석\n",
        "* 2! = 1 * 2\n",
        "* 3! = 1 * 2 * 3\n",
        "* 4! = 1 * 2 * 3 * 4 = 4 * 3!\n"
      ],
      "metadata": {
        "id": "yyI2RW7AVWp-"
      }
    },
    {
      "cell_type": "markdown",
      "source": [
        "### 1-2. 규칙\n",
        "* n! = n * (n-1)!\n",
        "      * 함수로 만들어보기\n",
        "      * 함수(n)은 n>1이면 return n*함수(n-1)\n",
        "      * 함수(n)은 n=1이면 return n"
      ],
      "metadata": {
        "id": "54aqgKzkVip6"
      }
    },
    {
      "cell_type": "markdown",
      "source": [
        "### 1-3. 검증\n",
        "1. 2!\n",
        "    * 함수(2)이면 2>1 이므로 2*함수(1)\n",
        "    * 함수(1)은 1이므로 return 2*1, 답은 2\n",
        "\n",
        "2. 3!\n",
        "    * 함수(3)이면 3>1 이므로 3*함수(2)\n",
        "    * 함수(2)는 1번에 의해 2!이므로 return 2*1 = 2\n",
        "    * 3*함수(2) = 3 * 2 = 3 * 2 * 1, 답은 6\n",
        "\n",
        "3. 4!\n",
        "    * 함수(4)이면 4>1 이므로 4*함수(3)\n",
        "    * 함수(3)은 2번에 의해 3 * 2 * 1 = 6\n",
        "    * 4*함수(3) = 4 * 6, 4 * 3 * 2 * 1, 답은 24\n"
      ],
      "metadata": {
        "id": "1bB0gIjCWLRg"
      }
    },
    {
      "cell_type": "code",
      "source": [
        "def factorial(num):\n",
        "    if num > 1:\n",
        "        return num * factorial(num - 1)\n",
        "    else:\n",
        "        return num"
      ],
      "metadata": {
        "id": "F7-cFIcMXhxE"
      },
      "execution_count": null,
      "outputs": []
    },
    {
      "cell_type": "code",
      "source": [
        "factorial(4)"
      ],
      "metadata": {
        "colab": {
          "base_uri": "https://localhost:8080/"
        },
        "id": "DYUtmSa8XqzC",
        "outputId": "b6eced03-9020-4604-f6ff-0f1adeb91b15"
      },
      "execution_count": null,
      "outputs": [
        {
          "output_type": "execute_result",
          "data": {
            "text/plain": [
              "24"
            ]
          },
          "metadata": {},
          "execution_count": 2
        }
      ]
    },
    {
      "cell_type": "markdown",
      "source": [
        "### 1-4. 재귀호출의 시간 복잡도\n",
        "* factorial(n)은 n-1번의 factorial() 함수를 호출해서 곱셈을 함\n",
        "    * n-1번 반복문을 호출한 것과 동일\n",
        "    * factorial() 함수를 호출할 때마다 지역변수 n이 생성됨\n",
        "    * 시간 복잡도는 O(n-1)이므로 O(n)"
      ],
      "metadata": {
        "id": "PeA3hewaX-A0"
      }
    },
    {
      "cell_type": "markdown",
      "source": [
        "### 1-5. 재귀호출의 전형적인 예\n",
        "* 함수는 내부적으로 스택처럼 관리\n",
        "* 파이썬에서 재귀함수의 깊이가(한번에 호출되는) 1000회 이하로 되어야 함\n",
        "* * [코드분석]( http://pythontutor.com/live.html#code=%23%20factorial%20%ED%95%A8%EC%88%98%20%EC%95%88%EC%97%90%EC%84%9C%20factorial%20%ED%95%A8%EC%88%98%EB%A5%BC%20%ED%98%B8%EC%B6%9C%0Adef%20factorial%28num%29%3A%0A%20%20%20%20if%20num%20%3E%201%3A%0A%20%20%20%20%20%20%20%20return%20num%20*%20factorial%28num%20-%201%29%0A%20%20%20%20else%3A%0A%20%20%20%20%20%20%20%20return%20num%0A%0Afactorial%285%29&cumulative=false&curInstr=22&heapPrimitives=false&mode=display&origin=opt-live.js&py=3&rawInputLstJSON=%5B%5D&textReferences=false)"
      ],
      "metadata": {
        "id": "4Qrbcz9TYHP8"
      }
    },
    {
      "cell_type": "markdown",
      "source": [
        "### 문제\n",
        "회문(순서로 거꾸로 읽어도 제대로 읽어도 것과 같은 단어와 문장을 의미)을 판별할 수 있는 함수를 리스트 슬라이싱을 활용하여 만들어보자\n",
        "* 재귀함수를 사용\n",
        "* 회문이면 True 아니면 False반환"
      ],
      "metadata": {
        "id": "ND9KMv2oAm9U"
      }
    },
    {
      "cell_type": "code",
      "source": [
        "def palindrome(string):\n",
        "    if len(string) <=1:\n",
        "        return True\n",
        "    if string[0] == string[-1]:\n",
        "        return palindrome(string[1:-1])\n",
        "    else:\n",
        "        return False"
      ],
      "metadata": {
        "id": "IZME5PO2GW7q"
      },
      "execution_count": null,
      "outputs": []
    },
    {
      "cell_type": "markdown",
      "source": [
        "문제 정수 n을 입력받아 아래와 같이 처리하는 프로그램을 만들어보자\n",
        "\n",
        "1. n이 홀수면 3*n+1을 함\n",
        "2. n이 짝수면 n을 2로 나움\n",
        "3. 이렇게 계속 진행해서 n이 결국 1이 될 때 까지 1번과 2번을 반복하면서 실행\n",
        "\n",
        "* 단 재귀함수로 작성"
      ],
      "metadata": {
        "id": "9PI7xT2dGHBd"
      }
    },
    {
      "cell_type": "code",
      "source": [
        "def input_num(n):\n",
        "    print(n)\n",
        "    if n==1:\n",
        "        return n\n",
        "    if n%2 == 1:\n",
        "        return input_num((3*n)+1)\n",
        "    else:\n",
        "        return input_num(int(n/2))"
      ],
      "metadata": {
        "id": "z-ro3TwQH4DP"
      },
      "execution_count": null,
      "outputs": []
    },
    {
      "cell_type": "code",
      "source": [
        "input_num(3) # 마지막 1은 코랩에서 찍은거라 신경 안써도 괜찮음"
      ],
      "metadata": {
        "colab": {
          "base_uri": "https://localhost:8080/"
        },
        "id": "reWcc1G7IO9p",
        "outputId": "f593fb6f-61b2-403b-dfca-186034d49cef"
      },
      "execution_count": null,
      "outputs": [
        {
          "output_type": "stream",
          "name": "stdout",
          "text": [
            "3\n",
            "10\n",
            "5\n",
            "16\n",
            "8\n",
            "4\n",
            "2\n",
            "1\n"
          ]
        },
        {
          "output_type": "execute_result",
          "data": {
            "text/plain": [
              "1"
            ]
          },
          "metadata": {},
          "execution_count": 4
        }
      ]
    }
  ]
}
