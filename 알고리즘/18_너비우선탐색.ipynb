{
  "nbformat": 4,
  "nbformat_minor": 0,
  "metadata": {
    "colab": {
      "provenance": [],
      "authorship_tag": "ABX9TyOTRqMWN1q3qyxChCet5Fgx",
      "include_colab_link": true
    },
    "kernelspec": {
      "name": "python3",
      "display_name": "Python 3"
    },
    "language_info": {
      "name": "python"
    }
  },
  "cells": [
    {
      "cell_type": "markdown",
      "metadata": {
        "id": "view-in-github",
        "colab_type": "text"
      },
      "source": [
        "<a href=\"https://colab.research.google.com/github/Anjinhyoung/Coding-Learning/blob/main/18_%EB%84%88%EB%B9%84%EC%9A%B0%EC%84%A0%ED%83%90%EC%83%89.ipynb\" target=\"_parent\"><img src=\"https://colab.research.google.com/assets/colab-badge.svg\" alt=\"Open In Colab\"/></a>"
      ]
    },
    {
      "cell_type": "markdown",
      "source": [
        "# 1.너비 우선 탐색(BFS)"
      ],
      "metadata": {
        "id": "TkE0yKkNuNli"
      }
    },
    {
      "cell_type": "markdown",
      "source": [
        "### 1-1.BFS란?\n",
        "* 대표적인 그래프 탐색 알고리즘\n",
        "* 정점들과 같은 레벨에 있는 노드(형제 노드)들을 먼저 탐색하는 방식\n",
        "* 한 단계씩 내려오면서 해당 노드의 같은 레벨에 있는 노드들을 먼저 순회함"
      ],
      "metadata": {
        "id": "CxQBerWjuX0W"
      }
    },
    {
      "cell_type": "code",
      "source": [
        "graph = dict()\n",
        "\n",
        "# {'A':['B', 'C']}\n",
        "graph['A'] = ['B', 'C']\n",
        "graph['B'] = ['A', 'D']\n",
        "graph['C'] = ['A', 'G', 'H', 'I']\n",
        "graph['D'] = ['B', 'E', 'F']\n",
        "graph['E'] = ['D']\n",
        "graph['F'] = ['D']\n",
        "graph['G'] = ['C']\n",
        "graph['H'] = ['C']\n",
        "graph['I'] = ['C', 'J']\n",
        "graph['J'] = ['I']\n",
        "\n",
        "graph"
      ],
      "metadata": {
        "colab": {
          "base_uri": "https://localhost:8080/"
        },
        "id": "G38zyLsPwheY",
        "outputId": "47b1d5e8-3ad6-4e2c-e9f0-11dc74e32790"
      },
      "execution_count": null,
      "outputs": [
        {
          "output_type": "execute_result",
          "data": {
            "text/plain": [
              "{'A': ['B', 'C'],\n",
              " 'B': ['A', 'D'],\n",
              " 'C': ['A', 'G', 'H', 'I'],\n",
              " 'D': ['B', 'E', 'F'],\n",
              " 'E': ['D'],\n",
              " 'F': ['D'],\n",
              " 'G': ['C'],\n",
              " 'H': ['C'],\n",
              " 'I': ['C', 'J'],\n",
              " 'J': ['I']}"
            ]
          },
          "metadata": {},
          "execution_count": 2
        }
      ]
    },
    {
      "cell_type": "markdown",
      "source": [
        "### 1-2. BFS 알고리즘 큐현\n",
        "* 큐 자료구조 활용\n",
        "* need_visit큐,  visited 큐 생성\n"
      ],
      "metadata": {
        "id": "4VzfFdXixZlD"
      }
    },
    {
      "cell_type": "code",
      "source": [
        "def bfs(graph, start_node):\n",
        "    visited, need_visit = list(), list()\n",
        "\n",
        "    need_visit.append(start_node)\n",
        "\n",
        "    while need_visit:\n",
        "        node = need_visit.pop(0)\n",
        "        if node not in visited:\n",
        "            visited.append(node)\n",
        "            need_visit.extend(graph[node])\n",
        "    return visited"
      ],
      "metadata": {
        "id": "deVXq5Bc331l"
      },
      "execution_count": null,
      "outputs": []
    },
    {
      "cell_type": "code",
      "source": [
        "bfs(graph, 'A')"
      ],
      "metadata": {
        "colab": {
          "base_uri": "https://localhost:8080/"
        },
        "id": "engTgxu33-Kf",
        "outputId": "cd11086b-a1e5-43f5-8bca-e569616eb8b3"
      },
      "execution_count": null,
      "outputs": [
        {
          "output_type": "execute_result",
          "data": {
            "text/plain": [
              "['A', 'B', 'C', 'D', 'G', 'H', 'I', 'E', 'F', 'J']"
            ]
          },
          "metadata": {},
          "execution_count": 4
        }
      ]
    }
  ]
}
