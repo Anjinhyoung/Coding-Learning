{
  "nbformat": 4,
  "nbformat_minor": 0,
  "metadata": {
    "colab": {
      "provenance": [],
      "authorship_tag": "ABX9TyMMJoLcw9MBcyqrlGZnxgnl",
      "include_colab_link": true
    },
    "kernelspec": {
      "name": "python3",
      "display_name": "Python 3"
    },
    "language_info": {
      "name": "python"
    }
  },
  "cells": [
    {
      "cell_type": "markdown",
      "metadata": {
        "id": "view-in-github",
        "colab_type": "text"
      },
      "source": [
        "<a href=\"https://colab.research.google.com/github/Anjinhyoung/TIL-Today-I-Learned-/blob/main/Linear_Regression_2.ipynb\" target=\"_parent\"><img src=\"https://colab.research.google.com/assets/colab-badge.svg\" alt=\"Open In Colab\"/></a>"
      ]
    },
    {
      "cell_type": "code",
      "source": [
        "from sklearn.linear_model import LinearRegression # 선형 회귀 분석"
      ],
      "metadata": {
        "id": "W_NMpIf1BJyO"
      },
      "execution_count": null,
      "outputs": []
    },
    {
      "cell_type": "code",
      "source": [
        "lr = LinearRegression()"
      ],
      "metadata": {
        "id": "MTvqUP1cD899"
      },
      "execution_count": null,
      "outputs": []
    },
    {
      "cell_type": "code",
      "source": [
        "lr.fit(X_train,y_train) # loss값을 구해서 방향을 찾고 러닝메이트(학습률)를 곱해서 점차 점차 기울기를 바꿔가면서 업데이트하고\n",
        "# 그리고 최적의 값을 찾게 됨\n",
        "# 최적의 선을 찾았는데 알 수는 없어 LinearRegression이 임의로 구하기 때문에"
      ],
      "metadata": {
        "colab": {
          "base_uri": "https://localhost:8080/",
          "height": 75
        },
        "id": "_UFwhviYEALd",
        "outputId": "7ff3ad22-f7bd-469d-ca60-fbe7a7de5337"
      },
      "execution_count": null,
      "outputs": [
        {
          "output_type": "execute_result",
          "data": {
            "text/plain": [
              "LinearRegression()"
            ],
            "text/html": [
              "<style>#sk-container-id-3 {color: black;background-color: white;}#sk-container-id-3 pre{padding: 0;}#sk-container-id-3 div.sk-toggleable {background-color: white;}#sk-container-id-3 label.sk-toggleable__label {cursor: pointer;display: block;width: 100%;margin-bottom: 0;padding: 0.3em;box-sizing: border-box;text-align: center;}#sk-container-id-3 label.sk-toggleable__label-arrow:before {content: \"▸\";float: left;margin-right: 0.25em;color: #696969;}#sk-container-id-3 label.sk-toggleable__label-arrow:hover:before {color: black;}#sk-container-id-3 div.sk-estimator:hover label.sk-toggleable__label-arrow:before {color: black;}#sk-container-id-3 div.sk-toggleable__content {max-height: 0;max-width: 0;overflow: hidden;text-align: left;background-color: #f0f8ff;}#sk-container-id-3 div.sk-toggleable__content pre {margin: 0.2em;color: black;border-radius: 0.25em;background-color: #f0f8ff;}#sk-container-id-3 input.sk-toggleable__control:checked~div.sk-toggleable__content {max-height: 200px;max-width: 100%;overflow: auto;}#sk-container-id-3 input.sk-toggleable__control:checked~label.sk-toggleable__label-arrow:before {content: \"▾\";}#sk-container-id-3 div.sk-estimator input.sk-toggleable__control:checked~label.sk-toggleable__label {background-color: #d4ebff;}#sk-container-id-3 div.sk-label input.sk-toggleable__control:checked~label.sk-toggleable__label {background-color: #d4ebff;}#sk-container-id-3 input.sk-hidden--visually {border: 0;clip: rect(1px 1px 1px 1px);clip: rect(1px, 1px, 1px, 1px);height: 1px;margin: -1px;overflow: hidden;padding: 0;position: absolute;width: 1px;}#sk-container-id-3 div.sk-estimator {font-family: monospace;background-color: #f0f8ff;border: 1px dotted black;border-radius: 0.25em;box-sizing: border-box;margin-bottom: 0.5em;}#sk-container-id-3 div.sk-estimator:hover {background-color: #d4ebff;}#sk-container-id-3 div.sk-parallel-item::after {content: \"\";width: 100%;border-bottom: 1px solid gray;flex-grow: 1;}#sk-container-id-3 div.sk-label:hover label.sk-toggleable__label {background-color: #d4ebff;}#sk-container-id-3 div.sk-serial::before {content: \"\";position: absolute;border-left: 1px solid gray;box-sizing: border-box;top: 0;bottom: 0;left: 50%;z-index: 0;}#sk-container-id-3 div.sk-serial {display: flex;flex-direction: column;align-items: center;background-color: white;padding-right: 0.2em;padding-left: 0.2em;position: relative;}#sk-container-id-3 div.sk-item {position: relative;z-index: 1;}#sk-container-id-3 div.sk-parallel {display: flex;align-items: stretch;justify-content: center;background-color: white;position: relative;}#sk-container-id-3 div.sk-item::before, #sk-container-id-3 div.sk-parallel-item::before {content: \"\";position: absolute;border-left: 1px solid gray;box-sizing: border-box;top: 0;bottom: 0;left: 50%;z-index: -1;}#sk-container-id-3 div.sk-parallel-item {display: flex;flex-direction: column;z-index: 1;position: relative;background-color: white;}#sk-container-id-3 div.sk-parallel-item:first-child::after {align-self: flex-end;width: 50%;}#sk-container-id-3 div.sk-parallel-item:last-child::after {align-self: flex-start;width: 50%;}#sk-container-id-3 div.sk-parallel-item:only-child::after {width: 0;}#sk-container-id-3 div.sk-dashed-wrapped {border: 1px dashed gray;margin: 0 0.4em 0.5em 0.4em;box-sizing: border-box;padding-bottom: 0.4em;background-color: white;}#sk-container-id-3 div.sk-label label {font-family: monospace;font-weight: bold;display: inline-block;line-height: 1.2em;}#sk-container-id-3 div.sk-label-container {text-align: center;}#sk-container-id-3 div.sk-container {/* jupyter's `normalize.less` sets `[hidden] { display: none; }` but bootstrap.min.css set `[hidden] { display: none !important; }` so we also need the `!important` here to be able to override the default hidden behavior on the sphinx rendered scikit-learn.org. See: https://github.com/scikit-learn/scikit-learn/issues/21755 */display: inline-block !important;position: relative;}#sk-container-id-3 div.sk-text-repr-fallback {display: none;}</style><div id=\"sk-container-id-3\" class=\"sk-top-container\"><div class=\"sk-text-repr-fallback\"><pre>LinearRegression()</pre><b>In a Jupyter environment, please rerun this cell to show the HTML representation or trust the notebook. <br />On GitHub, the HTML representation is unable to render, please try loading this page with nbviewer.org.</b></div><div class=\"sk-container\" hidden><div class=\"sk-item\"><div class=\"sk-estimator sk-toggleable\"><input class=\"sk-toggleable__control sk-hidden--visually\" id=\"sk-estimator-id-3\" type=\"checkbox\" checked><label for=\"sk-estimator-id-3\" class=\"sk-toggleable__label sk-toggleable__label-arrow\">LinearRegression</label><div class=\"sk-toggleable__content\"><pre>LinearRegression()</pre></div></div></div></div></div>"
            ]
          },
          "metadata": {},
          "execution_count": 109
        }
      ]
    },
    {
      "cell_type": "code",
      "source": [
        "pred = lr.predict(X_test) # LinearRegression이 구한 최적의 선(기대값)에 의해서 X_test를 예측"
      ],
      "metadata": {
        "id": "ekwXaYdOEGR2"
      },
      "execution_count": null,
      "outputs": []
    },
    {
      "cell_type": "code",
      "source": [
        "pred  # 실제 데이터에 관한 값이 출력 (기울기(기대값)에 의해서)"
      ],
      "metadata": {
        "colab": {
          "base_uri": "https://localhost:8080/"
        },
        "id": "iZniE7r-HRTK",
        "outputId": "b307c00c-8ca8-4b60-e31c-51b4837e2627"
      },
      "execution_count": null,
      "outputs": [
        {
          "output_type": "execute_result",
          "data": {
            "text/plain": [
              "array([ 1.85666954e+05,  6.56319414e+04,  3.79216873e+04,  4.07492370e+04,\n",
              "        1.53644199e+04,  1.03007898e+04,  3.18519243e+04, -1.02863484e+03,\n",
              "        3.54652859e+03,  5.49046889e+04,  5.54039274e+04,  1.24942586e+04,\n",
              "       -7.15496087e+03, -2.24552215e+04,  9.53769064e+04,  2.25665611e+03,\n",
              "        1.45745486e+04,  4.21565876e+04,  1.52484012e+04, -5.81255961e+01,\n",
              "        1.82136631e+03, -3.71785273e+03, -2.53960269e+04, -2.31902805e+04,\n",
              "        7.37835272e+04,  4.71180750e+04,  3.63188490e+03,  4.32519136e+04,\n",
              "        4.55754646e+04,  1.67146596e+04,  7.78473203e+04, -1.24128261e+04,\n",
              "        3.47634171e+04, -1.49239327e+04,  1.46945694e+05,  1.23246843e+04,\n",
              "        2.99412087e+04, -9.42417663e+03, -5.81477651e+03,  1.72505263e+04,\n",
              "        8.00243972e+04,  1.09185591e+04,  1.23229316e+03,  6.71688438e+04,\n",
              "       -1.30110736e+04,  6.37471657e+03,  5.40174845e+04, -4.23124387e+03,\n",
              "        1.02516860e+05,  4.17309853e+03,  1.24236145e+04,  8.00243972e+04,\n",
              "        1.65841946e+04,  4.43373300e+03,  1.35670734e+04,  7.14622142e+04,\n",
              "        5.05259159e+04,  4.65271333e+04,  4.27879206e+04,  4.91119576e+04,\n",
              "       -1.80713707e+03, -1.41665989e+04,  1.54881309e+03,  7.40666526e+04,\n",
              "       -6.32574623e+03, -6.98538650e+03,  1.06182075e+04,  6.69474196e+04,\n",
              "        8.75504594e+03, -6.48110826e+03,  7.78088657e+04,  1.07345802e+05,\n",
              "        1.78607679e+04,  7.34097139e+04,  5.90088734e+04,  4.95970130e+04,\n",
              "       -2.07339862e+04,  6.98363673e+03,  2.91090927e+04, -1.50935071e+04,\n",
              "        7.21615399e+04,  9.11753595e+04,  2.73600657e+04,  4.19220959e+04,\n",
              "        5.74652546e+04, -1.93241234e+04,  9.77020859e+04,  5.82980096e+04,\n",
              "        2.08752396e+04,  1.09782709e+05,  2.38236039e+04,  7.00390051e+04,\n",
              "        2.03584732e+05,  1.24942586e+04, -1.33752336e+03,  7.37835272e+04,\n",
              "       -4.26124036e+03, -8.75309895e+03,  9.78739865e+03,  7.00812499e+04,\n",
              "        4.54691179e+03,  6.71688438e+04,  8.70749184e+03,  2.05307981e+05,\n",
              "       -2.13841562e+03, -1.97502056e+04,  1.87388663e+04,  6.82131733e+03,\n",
              "        1.10849301e+05,  1.01737501e+04,  6.71688438e+04,  2.27387525e+04,\n",
              "        1.47787875e+04, -2.32052821e+03,  6.62720181e+03,  6.09195891e+04,\n",
              "        1.07442589e+05,  1.03207627e+05, -5.79814275e+03,  4.03426588e+04,\n",
              "        2.03709614e+04,  2.75520378e+04,  3.24648924e+03,  2.78609187e+04,\n",
              "        9.14612158e+04,  9.70411384e+04,  3.64165856e+04,  3.74718586e+04,\n",
              "       -1.38503436e+04,  1.02443942e+04,  2.68160703e+04, -1.20390128e+04,\n",
              "        7.54093045e+04,  5.07761896e+04,  2.07447746e+04,  8.95397548e+03,\n",
              "        9.66093586e+03,  3.54652859e+03,  6.81621495e+04, -1.67450691e+02,\n",
              "        3.75919415e+04, -2.27680886e+03,  1.08262365e+04,  2.14286222e+05,\n",
              "        2.95673954e+04,  6.57454925e+04,  4.83549381e+04, -2.57698402e+04,\n",
              "        1.22411847e+05,  1.34860780e+05,  1.91102992e+05,  4.34464601e+04,\n",
              "        2.82305669e+03,  3.87105075e+04,  2.38371089e+03,  5.94396900e+04,\n",
              "       -3.85715918e+03,  4.28629101e+04, -1.24128261e+04, -1.29262172e+04,\n",
              "       -2.51222888e+03,  1.32822735e+05,  3.56386911e+04, -1.75564110e+04,\n",
              "        4.17309853e+03, -2.11648028e+04,  3.41017887e+04, -1.28436427e+04,\n",
              "       -1.03151577e+04,  1.01201718e+05, -1.10884086e+04,  7.43091848e+03,\n",
              "        1.30899463e+04,  1.41300913e+04, -1.24128261e+04,  1.06070344e+05,\n",
              "       -1.33958309e+04,  2.79258511e+04,  1.62103813e+04, -1.73868366e+04,\n",
              "        1.63796768e+04,  1.19117774e+04,  7.75619092e+04,  9.99957892e+04,\n",
              "        4.93199866e+04,  6.06447061e+04,  1.00078362e+05,  6.17020624e+03,\n",
              "        6.84170178e+04,  6.00063188e+03,  2.53111509e+05,  2.73152953e+02,\n",
              "        1.29893999e+04,  7.88922123e+03, -1.24698294e+04,  6.96229471e+04,\n",
              "        4.55267501e+04,  8.55113995e+04, -9.72320766e+03,  5.90088734e+04,\n",
              "        1.17844039e+05,  3.14211077e+04,  2.75520378e+04,  1.24942586e+04,\n",
              "        6.95261602e+04, -1.44469285e+03,  7.62197301e+04,  2.23435205e+04,\n",
              "       -1.57986628e+04, -6.85492152e+03,  2.01802627e+03,  4.54691179e+03,\n",
              "        3.35161563e+04,  2.12462353e+04,  1.49483619e+04,  6.77234131e+02,\n",
              "        8.64786875e+03,  2.06479878e+04,  4.24878813e+04,  3.41017887e+04,\n",
              "        1.09091099e+04,  4.25534138e+04,  3.83928337e+04,  5.55913994e+04,\n",
              "       -8.54825227e+03,  9.04264551e+04,  6.08381418e+03,  1.92930267e+05,\n",
              "        3.83273012e+04,  6.05479192e+04,  1.62722248e+04,  1.28454233e+05,\n",
              "       -4.77463150e+03,  8.76449519e+03,  1.20498013e+04, -2.53960269e+04,\n",
              "        2.05965062e+05,  1.51352225e+04, -4.60505713e+03,  2.03584231e+04,\n",
              "        6.11792371e+04,  4.07076306e+04,  1.51198035e+05,  2.92670438e+04,\n",
              "       -2.83078252e+04,  4.10245445e+03,  5.10586003e+04,  2.06710007e+04,\n",
              "        6.77929308e+04,  6.25338855e+03, -5.07467085e+03,  2.54717478e+04,\n",
              "        3.80363988e+04,  8.21774747e+04,  3.94626083e+04,  1.22155855e+04,\n",
              "        2.25130949e+04,  5.63748009e+04,  1.69160809e+04,  8.87014703e+04,\n",
              "        6.38347769e+04,  7.34097139e+04, -1.70052311e+04,  3.60513015e+04,\n",
              "        6.11713220e+04,  4.60701377e+04,  6.41309815e+04, -2.38591245e+04,\n",
              "        1.76082827e+04,  7.75619092e+04,  5.43206244e+04, -6.71879129e+03,\n",
              "       -3.19992689e+03,  1.62879564e+05,  2.75752415e+03,  3.78321599e+04,\n",
              "        7.57670303e+04,  1.12279057e+05, -2.74056728e+04, -1.53683901e+04,\n",
              "       -4.16576515e+03,  4.17309853e+03,  4.44943974e+04, -6.26528696e+03,\n",
              "       -4.42004108e+03,  3.37279755e+04,  2.57806286e+04,  3.84231017e+04,\n",
              "        6.83747731e+04,  4.79933916e+04, -9.54266479e+03,  1.95397586e+04,\n",
              "        4.24229488e+04,  4.20005169e+04,  2.98848131e+04,  2.02216443e+03,\n",
              "        3.61083048e+04, -3.40910003e+04,  7.05900445e+04,  4.19220959e+04,\n",
              "        1.64577782e+04, -2.23795327e+04,  1.84949102e+04,  1.02443942e+04,\n",
              "        7.47316322e+03,  1.17186958e+05,  1.93166368e+05,  7.71119912e+04,\n",
              "        4.59915226e+04, -6.85492152e+03,  8.26303449e+03,  6.04156945e+03,\n",
              "       -1.70748668e+04,  1.83317931e+05,  5.58184332e+04, -2.03601729e+04,\n",
              "       -1.80343125e+04,  1.24110763e+04,  5.48958475e+04,  1.64852643e+04,\n",
              "        6.89140525e+01,  2.35344297e+03,  4.83634672e+04,  3.42395087e+04,\n",
              "       -2.53960269e+04,  1.94004521e+04,  5.85650238e+04, -2.52919387e+04,\n",
              "        3.26831271e+04,  4.21796005e+04, -2.06877985e+03, -1.45501195e+04,\n",
              "        4.76890068e+04,  4.60826759e+04,  1.89109682e+04, -8.43379723e+03,\n",
              "        7.08711211e+04,  2.54193684e+03,  7.04550631e+04,  9.79909962e+04,\n",
              "        8.20079004e+04,  4.13726398e+04,  9.00436494e+04,  3.55822955e+04,\n",
              "        6.96229471e+04,  1.24942586e+04,  1.02443942e+04,  6.01013185e+04,\n",
              "        5.63145517e+04, -4.44477090e+02,  1.02465376e+04,  4.17309853e+03,\n",
              "        9.62829252e+04,  1.29156260e+04,  8.33367857e+03, -6.14051455e+02,\n",
              "        5.49304520e+04,  3.24648924e+03,  1.54941052e+05,  7.12871791e+04,\n",
              "        1.00307469e+04,  4.21565876e+04,  5.22267591e+04,  2.48934242e+04,\n",
              "        2.11892320e+04,  5.80893120e+03,  6.48759302e+04,  1.71932187e+05,\n",
              "        2.59291421e+04, -6.39578253e+03,  6.25338855e+03,  2.56110543e+04,\n",
              "        5.97535737e+04,  9.87476152e+04, -1.70042227e+04,  4.98569045e+04,\n",
              "        8.19470628e+04,  5.37902780e+03,  5.04291290e+04, -1.69265110e+03,\n",
              "        4.90334671e+03,  3.15824893e+04,  7.26782513e+04,  1.74594685e+04,\n",
              "        5.02800712e+04, -5.92892002e+03, -5.79814275e+03,  1.43961737e+04,\n",
              "        5.01521026e+04,  7.58638172e+04,  8.32560744e+04,  4.63653358e+04,\n",
              "        8.15533877e+04,  6.10471436e+04,  6.06869508e+04,  3.37279755e+04,\n",
              "       -1.04633133e+04,  1.68590776e+04,  3.78399368e+04,  4.63691259e+04,\n",
              "        3.90165634e+03,  2.73175310e+04,  1.67846959e+04,  1.89393676e+04,\n",
              "        5.80893120e+03,  2.85225471e+04, -1.94671266e+04,  2.80954255e+04,\n",
              "       -1.32262566e+04,  5.89214577e+04, -8.75309895e+03,  8.26303449e+03,\n",
              "        1.28926130e+04,  5.25421040e+03,  1.76911936e+04,  2.93408177e+04,\n",
              "        5.21539716e+04, -2.57698402e+04,  7.79441072e+04, -7.74071282e+03,\n",
              "        6.16920820e+04,  9.51120850e+03, -7.87843277e+03,  2.09280851e+03,\n",
              "        7.38761764e+04,  1.59598571e+05, -1.70042227e+04,  5.75074994e+04,\n",
              "        7.46578879e+04,  1.41919348e+04,  1.65841946e+04, -1.49239327e+04,\n",
              "        6.84170178e+04,  8.00243972e+04,  3.60125044e+04,  7.39531015e+04,\n",
              "        1.06746031e+04, -3.71785273e+03,  3.18519243e+04,  1.07442589e+05,\n",
              "       -1.04633133e+04, -4.41571365e+03,  6.55109857e+04, -1.80713707e+03,\n",
              "        1.78323686e+04,  3.71610295e+03,  6.62999438e+04,  1.00827905e+05,\n",
              "        1.93257664e+05,  1.00993689e+05,  5.67590090e+04,  5.93375157e+04,\n",
              "        6.92261209e+04,  6.71688438e+04,  7.70710863e+03,  2.36035517e+04,\n",
              "        1.17021360e+05,  6.96715658e+04,  1.35169453e+03, -6.14051455e+02,\n",
              "        4.96553452e+04, -8.47882375e+03,  4.02458719e+04,  6.73640239e+04,\n",
              "        2.35344297e+03,  3.72055900e+04,  9.70411384e+04,  5.01521026e+04,\n",
              "        5.03216770e+04,  8.70749184e+03,  1.65968343e+05,  7.12242523e+04,\n",
              "        2.33943394e+04,  1.20498013e+04,  2.68867144e+04,  1.28926130e+04,\n",
              "        1.24942586e+04,  5.75074994e+04,  4.71136718e+03,  1.26068412e+05,\n",
              "        4.42785761e+04,  2.35344297e+03,  1.41309679e+05,  7.13294239e+04,\n",
              "        1.69643619e+05,  6.88669359e+04, -1.92289308e+04,  3.37279755e+04,\n",
              "       -4.62807008e+03,  3.83273012e+04,  8.86286828e+04,  9.54135483e+04,\n",
              "        4.72579892e+04,  6.98363673e+03,  8.20079004e+04, -2.91121496e+04,\n",
              "        2.91365788e+04,  1.91089419e+04,  3.73521514e+04, -2.99304202e+04,\n",
              "       -4.09166599e+03,  1.44049743e+04, -6.60277263e+03, -6.37064404e+02,\n",
              "        8.97273475e+04,  6.21755088e+04,  1.44049743e+04,  2.33999870e+04,\n",
              "        9.12885920e+03,  2.03951701e+04,  1.70286519e+04,  1.56247489e+04,\n",
              "        4.08991622e+03,  1.65722641e+04, -5.27739309e+02, -1.30019061e+04,\n",
              "       -1.30838611e+04,  6.50801691e+04,  1.42375684e+02,  1.70286519e+04,\n",
              "       -4.03318703e+04,  2.57806286e+04, -1.03325361e+04,  4.80718126e+04,\n",
              "        1.93701842e+04,  1.28680719e+04,  3.22560055e+04, -2.51222888e+03,\n",
              "        1.79527783e+04,  6.99060726e+04, -1.45501195e+04,  1.70286519e+04,\n",
              "        4.80655984e+03, -1.46945374e+04,  1.73195543e+04,  7.88922123e+03,\n",
              "        7.88922123e+03,  2.52362512e+03,  8.82881985e+03, -8.30864160e+03,\n",
              "       -5.49810340e+03, -2.36781089e+03,  8.24239584e+04, -8.40603625e+03,\n",
              "       -1.13773844e+04,  3.37279755e+04,  1.38621176e+05, -1.77686916e+03,\n",
              "       -4.02673354e+03,  6.18274447e+03,  5.89214577e+04, -2.12354469e+04,\n",
              "        4.56963244e+04,  4.40808069e+04,  1.09185591e+04,  4.31390462e+04,\n",
              "        7.84714073e+04,  5.03280197e+04, -8.25224604e+03,  2.05752003e+04,\n",
              "        8.81327518e+04,  1.18676887e+04,  3.23640653e+04,  8.41849773e+04,\n",
              "        3.52948743e+04,  1.85655543e+04,  8.33367857e+03,  6.27249961e+04,\n",
              "        7.88922123e+03,  8.45500659e+03,  3.22560055e+04, -2.57698402e+04,\n",
              "        6.06447061e+04,  1.19998710e+05,  6.96229471e+04,  5.62681861e+03,\n",
              "        3.30450099e+04,  7.58692779e+04, -2.99304202e+04,  9.78739865e+03,\n",
              "        6.36002701e+04, -4.24121603e+04,  1.28680719e+04, -2.44259312e+03,\n",
              "        9.13830845e+03,  1.63796768e+04,  8.91552084e+03,  4.24235566e+04,\n",
              "        8.20079004e+04,  8.26303449e+03,  1.07345802e+05, -4.92757210e+03,\n",
              "        2.33265253e+04,  6.71458309e+04,  1.66548387e+04,  6.91101022e+04,\n",
              "        1.61978932e+05,  2.33914578e+04,  1.28680719e+04,  7.75702939e+04,\n",
              "        5.36463509e+04, -1.70042227e+04, -4.09166599e+03,  2.72605277e+04,\n",
              "        1.26368451e+05,  1.59449839e+05,  9.04264551e+04,  5.31893707e+04,\n",
              "       -1.61995929e+04, -1.42701917e+04,  9.78739865e+03, -2.27955907e+04,\n",
              "        2.68160703e+04,  8.59431304e+03,  3.19247118e+04,  9.70254223e+03,\n",
              "       -1.08793713e+04, -4.31938861e+02, -1.05021104e+04,  3.00155904e+04,\n",
              "       -1.06856410e+03,  1.32988885e+04, -2.14050212e+04,  1.66561062e+05,\n",
              "        6.04751317e+04,  1.01201718e+05,  7.36867403e+04,  1.41162459e+04,\n",
              "        7.37835272e+04,  1.36117597e+05,  3.04345184e+04,  2.43481216e+04,\n",
              "        1.15914985e+04,  2.03584231e+04,  5.87502891e+04,  7.79441072e+04,\n",
              "        5.63145517e+04,  9.12885920e+03,  4.66823981e+03,  1.87388663e+04,\n",
              "        3.84231017e+04,  1.08274705e+05,  7.87668300e+03,  4.96998683e+04,\n",
              "        5.57172698e+04,  1.19827542e+05,  6.08595760e+03,  6.68730379e+04,\n",
              "        2.07447746e+04,  7.52819749e+04,  7.16550689e+04,  7.24937473e+04,\n",
              "        2.22816770e+04, -3.37171870e+04,  3.64165856e+04,  9.46350460e+04,\n",
              "        1.23229316e+03,  7.57670303e+04,  1.26617899e+05,  6.92491338e+04,\n",
              "        1.64146202e+04,  1.04139686e+04, -2.95559992e+04, -1.38192635e+04,\n",
              "        6.54623671e+04,  8.11458060e+02,  1.81210970e+04,  7.75702939e+04,\n",
              "       -8.05998396e+03,  2.52301734e+03,  5.71898256e+04,  7.82272327e+04,\n",
              "        1.17211122e+05,  7.35792883e+04,  7.54900039e+04,  5.07659766e+02,\n",
              "        1.43010771e+05,  7.10461562e+04,  1.01737501e+04,  1.53791785e+04,\n",
              "        1.29035968e+05,  4.63323107e+04,  1.69090133e+03,  1.24236145e+04,\n",
              "        8.70749184e+03,  8.08092190e+03,  1.14149952e+05, -7.85516786e+03,\n",
              "        1.96261098e+04,  2.07574144e+05,  3.64669907e+04,  3.80927944e+04,\n",
              "        6.40131769e+04,  6.08381418e+03,  6.15052214e+04, -6.78114760e+03,\n",
              "        9.03290605e+04, -2.28712795e+04,  7.47739066e+04,  8.20079004e+04,\n",
              "        5.25984290e+04,  8.64834603e+04,  1.38930064e+05,  1.17752743e+05,\n",
              "        3.89858407e+04,  3.71610295e+03,  3.12080682e+04, -1.61995929e+04,\n",
              "       -2.01137597e+03,  2.11476262e+04,  3.73511366e+04,  2.72752863e+04,\n",
              "        1.26581062e+04,  3.16598867e+04,  1.25358644e+04, -3.20107102e+04,\n",
              "       -3.27470913e+03,  2.59407537e+04,  6.77234131e+02,  1.10786842e+04,\n",
              "        1.06547546e+05, -1.70042227e+04,  1.65841946e+04,  7.04917696e+03,\n",
              "       -9.89379034e+03, -1.69210111e+04, -1.70042227e+04,  9.06392675e+03,\n",
              "        1.84823720e+04,  2.45315414e+04, -5.81255961e+01,  2.96408570e+04,\n",
              "        6.52581282e+04,  8.19166048e+04,  3.24082256e+04,  1.18723252e+05,\n",
              "        9.90334715e+04, -1.42500801e+04,  4.26630585e+04,  1.24236145e+04,\n",
              "        6.43837674e+04,  1.02695506e+04,  1.63052951e+04,  4.35541909e+04,\n",
              "       -1.20390128e+04,  4.31390462e+04,  4.69579499e+04, -2.11736034e+04,\n",
              "        4.76404026e+03,  4.95585584e+04,  9.13830845e+03,  9.69498429e+04,\n",
              "        5.91302014e+04,  2.38371089e+03,  5.90088734e+04,  1.00348313e+05,\n",
              "        5.40914924e+04,  8.89435239e+03,  1.10765102e+04,  1.99631911e+04,\n",
              "        1.62319479e+03,  2.19053293e+04, -1.03325361e+04,  1.61883742e+04,\n",
              "       -9.80578219e+03,  6.71688438e+04,  7.41995852e+04,  8.76449519e+03,\n",
              "       -1.62963797e+04,  9.51775205e+04,  4.19220959e+04,  1.30549324e+04,\n",
              "        9.91214285e+04, -4.44477090e+02,  1.88425807e+04,  6.65174297e+03,\n",
              "        1.65841946e+04,  4.40642294e+04, -8.75309895e+03,  2.12462353e+04,\n",
              "        1.11506382e+05,  8.02324262e+04,  2.76913443e+04,  7.34097139e+04,\n",
              "        2.14698183e+03,  1.89393676e+04,  2.11892320e+04,  7.81136816e+04,\n",
              "        4.59915226e+04, -2.45639109e+04,  7.34097139e+04,  3.46695113e+04,\n",
              "        7.17032371e+04,  6.27249961e+04,  9.71620002e+04,  1.07877819e+04,\n",
              "        4.01730844e+04,  8.44113061e+03,  1.03994078e+04,  4.29739450e+04,\n",
              "        4.29442654e+03,  1.28753557e+05,  9.96951125e+03,  2.22293770e+04,\n",
              "        6.03460214e+02,  4.60330736e+03,  7.29514111e+04,  1.90228487e+04,\n",
              "       -1.24128261e+04,  7.70152043e+04,  6.96229471e+04,  1.02810801e+05,\n",
              "        1.93701842e+04,  2.34995250e+04, -7.06638250e+01,  1.65841946e+04,\n",
              "        8.26303449e+03,  3.68953400e+02,  1.04535643e+05,  8.25049626e+03,\n",
              "        8.86286828e+04,  1.36884987e+05,  3.37279755e+04, -2.83500699e+04,\n",
              "       -1.40244811e+03,  3.93705980e+04,  8.33055670e+03, -2.78501302e+04,\n",
              "        2.99412087e+04,  3.01977472e+03, -2.96321473e+02, -7.87843277e+03,\n",
              "        4.91863393e+04,  4.59915226e+04,  1.17206376e+05,  1.97330290e+04,\n",
              "        5.23579052e+04, -1.26778584e+04,  7.42766666e+02, -7.87843277e+03,\n",
              "        1.89645239e+04,  1.97962971e+03,  8.96423500e+04,  1.05321332e+05,\n",
              "       -1.02753959e+04, -6.34153038e+03,  4.00009709e+04,  7.54093045e+04,\n",
              "        1.81210970e+04,  2.73333152e+04,  3.77976921e+04,  2.22816770e+04,\n",
              "        3.10472944e+04, -2.78501302e+04, -2.46678517e+04,  4.79339543e+03,\n",
              "        1.28680719e+04,  4.25534138e+04,  3.41017887e+04, -1.07633527e+04,\n",
              "       -8.47882375e+03,  1.20147874e+04,  1.07738684e+04,  7.92767586e+03,\n",
              "        2.59407537e+04, -1.46469063e+04,  6.08305791e+04, -6.01513226e+02,\n",
              "        6.97925215e+04,  6.14768221e+04,  2.99320976e+04, -5.81255961e+01,\n",
              "        4.10245445e+03,  1.28680719e+04,  2.87330883e+04,  1.85567537e+04,\n",
              "       -1.93241234e+04,  4.05827685e+04,  6.75426571e+04,  1.66548387e+04,\n",
              "        9.25789249e+04,  3.03420866e+02,  8.37059924e+04, -1.22095004e+04,\n",
              "       -7.87843277e+03,  9.00520341e+04,  1.91659453e+04, -6.77234700e+03,\n",
              "       -1.51641512e+04,  1.07238350e+05, -5.96771711e+03,  5.94249314e+04,\n",
              "        1.41300913e+04,  3.32696727e+04, -1.65734061e+04,  1.64146202e+04,\n",
              "        2.91963997e+04, -2.14215324e+03,  2.06479878e+04, -1.04863263e+04,\n",
              "       -4.67490039e+02, -7.87843277e+03,  2.36259569e+04,  1.62103813e+04,\n",
              "        2.57806286e+04,  4.40023859e+04,  1.35333953e+04, -2.99304202e+04,\n",
              "        1.07761860e+05,  4.57788990e+04,  3.60427723e+04,  2.99412087e+04,\n",
              "        1.60408069e+04,  8.42807777e+04, -1.60482976e+04,  1.66548387e+04,\n",
              "       -1.28436427e+04,  2.57806286e+04,  1.35169453e+03,  1.13794701e+05,\n",
              "       -2.72025789e+03,  2.49006087e+04,  5.05987034e+04,  9.78739865e+03,\n",
              "        7.36867403e+04,  1.45336612e+05, -1.73434957e+03,  7.17032371e+04,\n",
              "        4.55332198e+04, -1.84494572e+04, -1.33752336e+03, -1.10155016e+04,\n",
              "        1.11303737e+05,  4.90287907e+04,  2.73333152e+04,  2.19765910e+04,\n",
              "        3.18821922e+04,  7.13294239e+04, -7.06638250e+01, -5.89492961e+03,\n",
              "       -1.53683901e+04,  1.12435924e+05,  1.70856553e+04,  8.86286828e+04,\n",
              "        8.22742616e+04,  1.45745486e+04,  5.03139001e+04,  5.25984290e+04,\n",
              "        1.72155125e+04,  1.52729424e+04])"
            ]
          },
          "metadata": {},
          "execution_count": 111
        }
      ]
    },
    {
      "cell_type": "markdown",
      "source": [
        "# 3. 평가 지표 만들기\n"
      ],
      "metadata": {
        "id": "fmUa5qSXHtz_"
      }
    },
    {
      "cell_type": "markdown",
      "source": [
        "### 3-1. MSE(Mean Squared Error)\n",
        "* 예측값과 실제값의 차이에 대한 제곱에 대해 평균을 낸 값\n",
        "* ${(\\frac{1}{n})\\sum_{i=1}^{n}(y_{i} - x_{i})^{2}}$"
      ],
      "metadata": {
        "id": "7iJ4ZW22H4-z"
      }
    },
    {
      "cell_type": "code",
      "source": [
        "p = np.array([3,4,5]) # 예측값\n",
        "act = np.array([1,2,3]) # 실제값"
      ],
      "metadata": {
        "id": "_pkPDwjVIPp0"
      },
      "execution_count": null,
      "outputs": []
    },
    {
      "cell_type": "code",
      "source": [
        "def my_mse(pred, actual):\n",
        "    return ((pred-actual)**2).mean()"
      ],
      "metadata": {
        "id": "Xov0VYmnIiFn"
      },
      "execution_count": null,
      "outputs": []
    },
    {
      "cell_type": "code",
      "source": [
        "my_mse(p,act)\n",
        "\n",
        "# p = np.array([3,4,5]) # 예측값\n",
        "# act = np.array([1,2,3]) # 실제값\n",
        "# 이 두 개의 예측값과 실제값의 loss값이 4.0이다. (loss값 절대적이지 않는다.)\n",
        "# ex) loss값이 10이라고 학습이 잘 됐네 loss값이 4라고 학습이 잘 안 됐네 라고 생각하면 안 된다. 상대적이다."
      ],
      "metadata": {
        "colab": {
          "base_uri": "https://localhost:8080/"
        },
        "id": "IiUnHyDUIpcB",
        "outputId": "2ec99c48-0f1b-47ad-a301-4c8f93db31d8"
      },
      "execution_count": null,
      "outputs": [
        {
          "output_type": "execute_result",
          "data": {
            "text/plain": [
              "4.0"
            ]
          },
          "metadata": {},
          "execution_count": 114
        }
      ]
    },
    {
      "cell_type": "markdown",
      "source": [
        "### 3-2. MAE(Mean Absolute Error)\n",
        "* 예측값과 실제값의 차이에 대한 절대값에 대해 평균을 낸 값\n",
        "* $(\\frac{1}{n})\\sum_{i=1}^{n}\\left | y_{i} - x_{i} \\right |$"
      ],
      "metadata": {
        "id": "uL71NigNI1Fq"
      }
    },
    {
      "cell_type": "code",
      "source": [
        "# 사용을 잘 안 함"
      ],
      "metadata": {
        "id": "X9Q7TypyJHVD"
      },
      "execution_count": null,
      "outputs": []
    },
    {
      "cell_type": "code",
      "source": [
        "def my_mae(pred,actual):\n",
        "    return np.abs(pred-actual).mean()"
      ],
      "metadata": {
        "id": "9fu5I6ZlJhph"
      },
      "execution_count": null,
      "outputs": []
    },
    {
      "cell_type": "code",
      "source": [
        "my_mae(p,act)"
      ],
      "metadata": {
        "colab": {
          "base_uri": "https://localhost:8080/"
        },
        "id": "157hfxxwJoFo",
        "outputId": "6d6d3bb1-e499-4d21-abda-213aa2adfcdd"
      },
      "execution_count": null,
      "outputs": [
        {
          "output_type": "execute_result",
          "data": {
            "text/plain": [
              "2.0"
            ]
          },
          "metadata": {},
          "execution_count": 117
        }
      ]
    },
    {
      "cell_type": "markdown",
      "source": [
        "### 3-3. RSME(Root Mean Squared Error)\n",
        "* 예측값과 실제값의 차이에 대한 제곱에 대해 평균을 낸 후 루트를 씌운 값\n",
        "* $\\sqrt{(\\frac{1}{n})\\sum_{i=1}^{n}(y_{i} - x_{i})^{2}}$"
      ],
      "metadata": {
        "id": "paol-BdMJt7s"
      }
    },
    {
      "cell_type": "code",
      "source": [
        "# 가장 많이 씀\n",
        "# MSE를 써도 상관 없는데 머신 러닝, 딥 러닝에서는 웬만하면 수치가 작은 것이 좋다."
      ],
      "metadata": {
        "id": "x_DBY6N3J56b"
      },
      "execution_count": null,
      "outputs": []
    },
    {
      "cell_type": "code",
      "source": [
        "def my_rmse(pred, actual):\n",
        "    return np.sqrt(my_mse(pred,actual))"
      ],
      "metadata": {
        "id": "q8lvHezGKAGf"
      },
      "execution_count": null,
      "outputs": []
    },
    {
      "cell_type": "code",
      "source": [
        "my_rmse(p,act)"
      ],
      "metadata": {
        "colab": {
          "base_uri": "https://localhost:8080/"
        },
        "id": "2glFp0edKQVt",
        "outputId": "4140ad3b-f983-4870-c1c2-41c903c4deb1"
      },
      "execution_count": null,
      "outputs": [
        {
          "output_type": "execute_result",
          "data": {
            "text/plain": [
              "2.0"
            ]
          },
          "metadata": {},
          "execution_count": 120
        }
      ]
    },
    {
      "cell_type": "code",
      "source": [
        "from sklearn.metrics import mean_absolute_error, mean_squared_error"
      ],
      "metadata": {
        "id": "dCA0zlq0KTrg"
      },
      "execution_count": null,
      "outputs": []
    },
    {
      "cell_type": "code",
      "source": [
        "mean_absolute_error(p,act)"
      ],
      "metadata": {
        "colab": {
          "base_uri": "https://localhost:8080/"
        },
        "id": "H-r1jxzZKcMB",
        "outputId": "ac2f1aec-1009-4181-cedc-43c113c683e3"
      },
      "execution_count": null,
      "outputs": [
        {
          "output_type": "execute_result",
          "data": {
            "text/plain": [
              "2.0"
            ]
          },
          "metadata": {},
          "execution_count": 122
        }
      ]
    },
    {
      "cell_type": "code",
      "source": [
        "mean_squared_error(p,act)"
      ],
      "metadata": {
        "colab": {
          "base_uri": "https://localhost:8080/"
        },
        "id": "fWAtBVn0Kifh",
        "outputId": "603f173f-705f-4326-d7f4-7cba5b08b9a0"
      },
      "execution_count": null,
      "outputs": [
        {
          "output_type": "execute_result",
          "data": {
            "text/plain": [
              "4.0"
            ]
          },
          "metadata": {},
          "execution_count": 123
        }
      ]
    },
    {
      "cell_type": "code",
      "source": [
        "mean_squared_error(p,act,squared=False) #RMSE"
      ],
      "metadata": {
        "colab": {
          "base_uri": "https://localhost:8080/"
        },
        "id": "mkueTgMBKlcA",
        "outputId": "a52a6cce-f9ef-49c4-8eac-b7ec3eda9ca9"
      },
      "execution_count": null,
      "outputs": [
        {
          "output_type": "execute_result",
          "data": {
            "text/plain": [
              "2.0"
            ]
          },
          "metadata": {},
          "execution_count": 124
        }
      ]
    },
    {
      "cell_type": "markdown",
      "source": [
        "### 3-4. 평가 지표 적용하기"
      ],
      "metadata": {
        "id": "H2jPAemuKrsq"
      }
    },
    {
      "cell_type": "code",
      "source": [
        "mean_squared_error(y_test,pred)"
      ],
      "metadata": {
        "colab": {
          "base_uri": "https://localhost:8080/"
        },
        "id": "wkiGMFYtK1Bq",
        "outputId": "03720f70-0b9b-4d9e-8a8a-371d4f8501b4"
      },
      "execution_count": null,
      "outputs": [
        {
          "output_type": "execute_result",
          "data": {
            "text/plain": [
              "1717185779.002107"
            ]
          },
          "metadata": {},
          "execution_count": 125
        }
      ]
    },
    {
      "cell_type": "code",
      "source": [
        "mean_absolute_error(y_test,pred)"
      ],
      "metadata": {
        "colab": {
          "base_uri": "https://localhost:8080/"
        },
        "id": "1hgwHhtfK5M3",
        "outputId": "88a137ce-db47-46ff-94c9-99259a0fe63b"
      },
      "execution_count": null,
      "outputs": [
        {
          "output_type": "execute_result",
          "data": {
            "text/plain": [
              "22779.177225438947"
            ]
          },
          "metadata": {},
          "execution_count": 126
        }
      ]
    },
    {
      "cell_type": "code",
      "source": [
        "mean_squared_error(y_test,pred,squared=False)"
      ],
      "metadata": {
        "colab": {
          "base_uri": "https://localhost:8080/"
        },
        "id": "uBBlh6hlK81l",
        "outputId": "32adc213-a855-4920-ea60-d0abee9d3f2e"
      },
      "execution_count": null,
      "outputs": [
        {
          "output_type": "execute_result",
          "data": {
            "text/plain": [
              "41438.9403701652"
            ]
          },
          "metadata": {},
          "execution_count": 127
        }
      ]
    },
    {
      "cell_type": "code",
      "source": [
        "X_train.drop(1837,inplace=True)\n",
        "y_train.drop(1837,inplace=True)"
      ],
      "metadata": {
        "id": "tNatrwTfLGe0"
      },
      "execution_count": null,
      "outputs": []
    },
    {
      "cell_type": "code",
      "source": [
        "lr.fit(X_train,y_train)"
      ],
      "metadata": {
        "colab": {
          "base_uri": "https://localhost:8080/",
          "height": 75
        },
        "id": "gNrZvZrbp7j6",
        "outputId": "d18b2267-1bc7-4ced-8e37-1958e8cdd634"
      },
      "execution_count": null,
      "outputs": [
        {
          "output_type": "execute_result",
          "data": {
            "text/plain": [
              "LinearRegression()"
            ],
            "text/html": [
              "<style>#sk-container-id-4 {color: black;background-color: white;}#sk-container-id-4 pre{padding: 0;}#sk-container-id-4 div.sk-toggleable {background-color: white;}#sk-container-id-4 label.sk-toggleable__label {cursor: pointer;display: block;width: 100%;margin-bottom: 0;padding: 0.3em;box-sizing: border-box;text-align: center;}#sk-container-id-4 label.sk-toggleable__label-arrow:before {content: \"▸\";float: left;margin-right: 0.25em;color: #696969;}#sk-container-id-4 label.sk-toggleable__label-arrow:hover:before {color: black;}#sk-container-id-4 div.sk-estimator:hover label.sk-toggleable__label-arrow:before {color: black;}#sk-container-id-4 div.sk-toggleable__content {max-height: 0;max-width: 0;overflow: hidden;text-align: left;background-color: #f0f8ff;}#sk-container-id-4 div.sk-toggleable__content pre {margin: 0.2em;color: black;border-radius: 0.25em;background-color: #f0f8ff;}#sk-container-id-4 input.sk-toggleable__control:checked~div.sk-toggleable__content {max-height: 200px;max-width: 100%;overflow: auto;}#sk-container-id-4 input.sk-toggleable__control:checked~label.sk-toggleable__label-arrow:before {content: \"▾\";}#sk-container-id-4 div.sk-estimator input.sk-toggleable__control:checked~label.sk-toggleable__label {background-color: #d4ebff;}#sk-container-id-4 div.sk-label input.sk-toggleable__control:checked~label.sk-toggleable__label {background-color: #d4ebff;}#sk-container-id-4 input.sk-hidden--visually {border: 0;clip: rect(1px 1px 1px 1px);clip: rect(1px, 1px, 1px, 1px);height: 1px;margin: -1px;overflow: hidden;padding: 0;position: absolute;width: 1px;}#sk-container-id-4 div.sk-estimator {font-family: monospace;background-color: #f0f8ff;border: 1px dotted black;border-radius: 0.25em;box-sizing: border-box;margin-bottom: 0.5em;}#sk-container-id-4 div.sk-estimator:hover {background-color: #d4ebff;}#sk-container-id-4 div.sk-parallel-item::after {content: \"\";width: 100%;border-bottom: 1px solid gray;flex-grow: 1;}#sk-container-id-4 div.sk-label:hover label.sk-toggleable__label {background-color: #d4ebff;}#sk-container-id-4 div.sk-serial::before {content: \"\";position: absolute;border-left: 1px solid gray;box-sizing: border-box;top: 0;bottom: 0;left: 50%;z-index: 0;}#sk-container-id-4 div.sk-serial {display: flex;flex-direction: column;align-items: center;background-color: white;padding-right: 0.2em;padding-left: 0.2em;position: relative;}#sk-container-id-4 div.sk-item {position: relative;z-index: 1;}#sk-container-id-4 div.sk-parallel {display: flex;align-items: stretch;justify-content: center;background-color: white;position: relative;}#sk-container-id-4 div.sk-item::before, #sk-container-id-4 div.sk-parallel-item::before {content: \"\";position: absolute;border-left: 1px solid gray;box-sizing: border-box;top: 0;bottom: 0;left: 50%;z-index: -1;}#sk-container-id-4 div.sk-parallel-item {display: flex;flex-direction: column;z-index: 1;position: relative;background-color: white;}#sk-container-id-4 div.sk-parallel-item:first-child::after {align-self: flex-end;width: 50%;}#sk-container-id-4 div.sk-parallel-item:last-child::after {align-self: flex-start;width: 50%;}#sk-container-id-4 div.sk-parallel-item:only-child::after {width: 0;}#sk-container-id-4 div.sk-dashed-wrapped {border: 1px dashed gray;margin: 0 0.4em 0.5em 0.4em;box-sizing: border-box;padding-bottom: 0.4em;background-color: white;}#sk-container-id-4 div.sk-label label {font-family: monospace;font-weight: bold;display: inline-block;line-height: 1.2em;}#sk-container-id-4 div.sk-label-container {text-align: center;}#sk-container-id-4 div.sk-container {/* jupyter's `normalize.less` sets `[hidden] { display: none; }` but bootstrap.min.css set `[hidden] { display: none !important; }` so we also need the `!important` here to be able to override the default hidden behavior on the sphinx rendered scikit-learn.org. See: https://github.com/scikit-learn/scikit-learn/issues/21755 */display: inline-block !important;position: relative;}#sk-container-id-4 div.sk-text-repr-fallback {display: none;}</style><div id=\"sk-container-id-4\" class=\"sk-top-container\"><div class=\"sk-text-repr-fallback\"><pre>LinearRegression()</pre><b>In a Jupyter environment, please rerun this cell to show the HTML representation or trust the notebook. <br />On GitHub, the HTML representation is unable to render, please try loading this page with nbviewer.org.</b></div><div class=\"sk-container\" hidden><div class=\"sk-item\"><div class=\"sk-estimator sk-toggleable\"><input class=\"sk-toggleable__control sk-hidden--visually\" id=\"sk-estimator-id-4\" type=\"checkbox\" checked><label for=\"sk-estimator-id-4\" class=\"sk-toggleable__label sk-toggleable__label-arrow\">LinearRegression</label><div class=\"sk-toggleable__content\"><pre>LinearRegression()</pre></div></div></div></div></div>"
            ]
          },
          "metadata": {},
          "execution_count": 129
        }
      ]
    },
    {
      "cell_type": "code",
      "source": [
        "pred = lr.predict(X_test)"
      ],
      "metadata": {
        "id": "JpRfeGCMqDKc"
      },
      "execution_count": null,
      "outputs": []
    },
    {
      "cell_type": "code",
      "source": [
        "mean_squared_error(y_test,pred,squared=False)"
      ],
      "metadata": {
        "colab": {
          "base_uri": "https://localhost:8080/"
        },
        "id": "_BMN_snpqPNx",
        "outputId": "a712a214-0eec-469d-ce7d-b3c02b0f5892"
      },
      "execution_count": null,
      "outputs": [
        {
          "output_type": "execute_result",
          "data": {
            "text/plain": [
              "41377.57030234839"
            ]
          },
          "metadata": {},
          "execution_count": 131
        }
      ]
    },
    {
      "cell_type": "code",
      "source": [
        "41438.9403701652 - 41377.57030234839   # 오차가 줄어듦"
      ],
      "metadata": {
        "colab": {
          "base_uri": "https://localhost:8080/"
        },
        "id": "rs-FowPeqTIr",
        "outputId": "ab8e077e-2354-4a31-97e4-ad89e73c2cbe"
      },
      "execution_count": null,
      "outputs": [
        {
          "output_type": "execute_result",
          "data": {
            "text/plain": [
              "61.37006781680975"
            ]
          },
          "metadata": {},
          "execution_count": 132
        }
      ]
    },
    {
      "cell_type": "markdown",
      "source": [
        "# 4.log 활용하기"
      ],
      "metadata": {
        "id": "6RNRopLWX-oK"
      }
    },
    {
      "cell_type": "code",
      "source": [
        "a = [1,2,3,4,5]\n",
        "b = [1,10,100,1000,10000]\n",
        "\n",
        "sns.lineplot(x=a, y=b)"
      ],
      "metadata": {
        "colab": {
          "base_uri": "https://localhost:8080/",
          "height": 449
        },
        "id": "scTlJv_eYBmv",
        "outputId": "3c62fe10-afd4-48f4-ed3f-22257418cbde"
      },
      "execution_count": null,
      "outputs": [
        {
          "output_type": "execute_result",
          "data": {
            "text/plain": [
              "<Axes: >"
            ]
          },
          "metadata": {},
          "execution_count": 135
        },
        {
          "output_type": "display_data",
          "data": {
            "text/plain": [
              "<Figure size 640x480 with 1 Axes>"
            ],
            "image/png": "[encoded data removed]"
          },
          "metadata": {}
        }
      ]
    },
    {
      "cell_type": "code",
      "source": [
        "b_log = np.log(b) # 로그로 변환하면 위에 곡선이 직선으로 펴짐\n",
        "b_log"
      ],
      "metadata": {
        "colab": {
          "base_uri": "https://localhost:8080/"
        },
        "id": "ysQzjHgNYhwQ",
        "outputId": "435efdbf-6982-4e08-a71d-100d395db393"
      },
      "execution_count": null,
      "outputs": [
        {
          "output_type": "execute_result",
          "data": {
            "text/plain": [
              "array([0.        , 2.30258509, 4.60517019, 6.90775528, 9.21034037])"
            ]
          },
          "metadata": {},
          "execution_count": 136
        }
      ]
    },
    {
      "cell_type": "code",
      "source": [
        "np.exp(b_log) # np.exp()는 NumPy 라이브러리에서 제공하는 함수로, 주어진 숫자의 지수(exponential)를 계산하는 함수\n",
        "# 이 함수는 '지수 함수'라고도 불리며, 자연 로그(e, 자연상수)의 거듭제곱으로 주어진 숫자를 표현"
      ],
      "metadata": {
        "colab": {
          "base_uri": "https://localhost:8080/"
        },
        "id": "XFbWN0OdY94W",
        "outputId": "808107c8-0987-489d-8e2b-c3fca61b0f67"
      },
      "execution_count": null,
      "outputs": [
        {
          "output_type": "execute_result",
          "data": {
            "text/plain": [
              "array([1.e+00, 1.e+01, 1.e+02, 1.e+03, 1.e+04])"
            ]
          },
          "metadata": {},
          "execution_count": 137
        }
      ]
    },
    {
      "cell_type": "code",
      "source": [
        "y_train_log = np.log(y_train)"
      ],
      "metadata": {
        "id": "FvBb-7A-ZETh"
      },
      "execution_count": null,
      "outputs": []
    },
    {
      "cell_type": "code",
      "source": [
        "lr.fit(X_train,y_train_log)"
      ],
      "metadata": {
        "colab": {
          "base_uri": "https://localhost:8080/",
          "height": 75
        },
        "id": "todCud_tZNsX",
        "outputId": "a27e6333-aebf-480f-81fa-97ec369a6ef9"
      },
      "execution_count": null,
      "outputs": [
        {
          "output_type": "execute_result",
          "data": {
            "text/plain": [
              "LinearRegression()"
            ],
            "text/html": [
              "<style>#sk-container-id-5 {color: black;background-color: white;}#sk-container-id-5 pre{padding: 0;}#sk-container-id-5 div.sk-toggleable {background-color: white;}#sk-container-id-5 label.sk-toggleable__label {cursor: pointer;display: block;width: 100%;margin-bottom: 0;padding: 0.3em;box-sizing: border-box;text-align: center;}#sk-container-id-5 label.sk-toggleable__label-arrow:before {content: \"▸\";float: left;margin-right: 0.25em;color: #696969;}#sk-container-id-5 label.sk-toggleable__label-arrow:hover:before {color: black;}#sk-container-id-5 div.sk-estimator:hover label.sk-toggleable__label-arrow:before {color: black;}#sk-container-id-5 div.sk-toggleable__content {max-height: 0;max-width: 0;overflow: hidden;text-align: left;background-color: #f0f8ff;}#sk-container-id-5 div.sk-toggleable__content pre {margin: 0.2em;color: black;border-radius: 0.25em;background-color: #f0f8ff;}#sk-container-id-5 input.sk-toggleable__control:checked~div.sk-toggleable__content {max-height: 200px;max-width: 100%;overflow: auto;}#sk-container-id-5 input.sk-toggleable__control:checked~label.sk-toggleable__label-arrow:before {content: \"▾\";}#sk-container-id-5 div.sk-estimator input.sk-toggleable__control:checked~label.sk-toggleable__label {background-color: #d4ebff;}#sk-container-id-5 div.sk-label input.sk-toggleable__control:checked~label.sk-toggleable__label {background-color: #d4ebff;}#sk-container-id-5 input.sk-hidden--visually {border: 0;clip: rect(1px 1px 1px 1px);clip: rect(1px, 1px, 1px, 1px);height: 1px;margin: -1px;overflow: hidden;padding: 0;position: absolute;width: 1px;}#sk-container-id-5 div.sk-estimator {font-family: monospace;background-color: #f0f8ff;border: 1px dotted black;border-radius: 0.25em;box-sizing: border-box;margin-bottom: 0.5em;}#sk-container-id-5 div.sk-estimator:hover {background-color: #d4ebff;}#sk-container-id-5 div.sk-parallel-item::after {content: \"\";width: 100%;border-bottom: 1px solid gray;flex-grow: 1;}#sk-container-id-5 div.sk-label:hover label.sk-toggleable__label {background-color: #d4ebff;}#sk-container-id-5 div.sk-serial::before {content: \"\";position: absolute;border-left: 1px solid gray;box-sizing: border-box;top: 0;bottom: 0;left: 50%;z-index: 0;}#sk-container-id-5 div.sk-serial {display: flex;flex-direction: column;align-items: center;background-color: white;padding-right: 0.2em;padding-left: 0.2em;position: relative;}#sk-container-id-5 div.sk-item {position: relative;z-index: 1;}#sk-container-id-5 div.sk-parallel {display: flex;align-items: stretch;justify-content: center;background-color: white;position: relative;}#sk-container-id-5 div.sk-item::before, #sk-container-id-5 div.sk-parallel-item::before {content: \"\";position: absolute;border-left: 1px solid gray;box-sizing: border-box;top: 0;bottom: 0;left: 50%;z-index: -1;}#sk-container-id-5 div.sk-parallel-item {display: flex;flex-direction: column;z-index: 1;position: relative;background-color: white;}#sk-container-id-5 div.sk-parallel-item:first-child::after {align-self: flex-end;width: 50%;}#sk-container-id-5 div.sk-parallel-item:last-child::after {align-self: flex-start;width: 50%;}#sk-container-id-5 div.sk-parallel-item:only-child::after {width: 0;}#sk-container-id-5 div.sk-dashed-wrapped {border: 1px dashed gray;margin: 0 0.4em 0.5em 0.4em;box-sizing: border-box;padding-bottom: 0.4em;background-color: white;}#sk-container-id-5 div.sk-label label {font-family: monospace;font-weight: bold;display: inline-block;line-height: 1.2em;}#sk-container-id-5 div.sk-label-container {text-align: center;}#sk-container-id-5 div.sk-container {/* jupyter's `normalize.less` sets `[hidden] { display: none; }` but bootstrap.min.css set `[hidden] { display: none !important; }` so we also need the `!important` here to be able to override the default hidden behavior on the sphinx rendered scikit-learn.org. See: https://github.com/scikit-learn/scikit-learn/issues/21755 */display: inline-block !important;position: relative;}#sk-container-id-5 div.sk-text-repr-fallback {display: none;}</style><div id=\"sk-container-id-5\" class=\"sk-top-container\"><div class=\"sk-text-repr-fallback\"><pre>LinearRegression()</pre><b>In a Jupyter environment, please rerun this cell to show the HTML representation or trust the notebook. <br />On GitHub, the HTML representation is unable to render, please try loading this page with nbviewer.org.</b></div><div class=\"sk-container\" hidden><div class=\"sk-item\"><div class=\"sk-estimator sk-toggleable\"><input class=\"sk-toggleable__control sk-hidden--visually\" id=\"sk-estimator-id-5\" type=\"checkbox\" checked><label for=\"sk-estimator-id-5\" class=\"sk-toggleable__label sk-toggleable__label-arrow\">LinearRegression</label><div class=\"sk-toggleable__content\"><pre>LinearRegression()</pre></div></div></div></div></div>"
            ]
          },
          "metadata": {},
          "execution_count": 139
        }
      ]
    },
    {
      "cell_type": "code",
      "source": [
        "pred = lr.predict(X_test)"
      ],
      "metadata": {
        "id": "XmLGDHgaZR5b"
      },
      "execution_count": null,
      "outputs": []
    },
    {
      "cell_type": "code",
      "source": [
        "mean_squared_error(y_test,pred,squared=False)"
      ],
      "metadata": {
        "colab": {
          "base_uri": "https://localhost:8080/"
        },
        "id": "heLApQlRZVpe",
        "outputId": "c188c6f2-c06d-4861-8ece-fa090b3dc147"
      },
      "execution_count": null,
      "outputs": [
        {
          "output_type": "execute_result",
          "data": {
            "text/plain": [
              "70418.55375574114"
            ]
          },
          "metadata": {},
          "execution_count": 141
        }
      ]
    },
    {
      "cell_type": "markdown",
      "source": [
        "* 1837 데이터를 삭제하기 전 RMSE: 41438.9403701652\n",
        "* 1837 데이터를 삭제한 후 RMSE: 41377.57030234839\n",
        "* 비선형으로 가정한 후 log를 적용하여 RMSE: 70418.55375574114\n",
        "\n",
        "> 데이터의 분포가 비선형일 때 로그를 사용하면 오차가 적어지며, 선형일 때 로그를 사용하지 않는 것이 오차가 적음\n",
        "> 로그 변환을 사용하면 분포가 왜곡된 데이터를 보다 정규 분포에 가깝게 만들 수 있어서 회귀 모델의 성능을 향상시킬 수 있음(완벽하게 정규 분포를 따르지는 않기 때문에 이러한 방법이 항상 더 나은 결과를 보장하는 것은 아님)\n"
      ],
      "metadata": {
        "id": "VmUVwVLDZgYL"
      }
    }
  ]
}