{
  "nbformat": 4,
  "nbformat_minor": 0,
  "metadata": {
    "colab": {
      "provenance": [],
      "authorship_tag": "ABX9TyPBxGaO/5SNcz8A1TF8qC7A",
      "include_colab_link": true
    },
    "kernelspec": {
      "name": "python3",
      "display_name": "Python 3"
    },
    "language_info": {
      "name": "python"
    }
  },
  "cells": [
    {
      "cell_type": "markdown",
      "metadata": {
        "id": "view-in-github",
        "colab_type": "text"
      },
      "source": [
        "<a href=\"https://colab.research.google.com/github/Anjinhyoung/Coding-Learning/blob/main/16%EC%9D%B4%EC%A7%84_%ED%83%90%EC%83%89.ipynb\" target=\"_parent\"><img src=\"https://colab.research.google.com/assets/colab-badge.svg\" alt=\"Open In Colab\"/></a>"
      ]
    },
    {
      "cell_type": "markdown",
      "source": [
        "# 1. 이진 탐색\n",
        "* 탐색할 자료를 둘로 나누어 해당 데이터가 있을만한 곳을 탐색하는 방법\n",
        "\n",
        "<img src=\"https://www.mathwarehouse.com/programming/images/binary-vs-linear-search/binary-and-linear-search-animations.gif\">"
      ],
      "metadata": {
        "id": "wWzX4s7kgl5N"
      }
    },
    {
      "cell_type": "markdown",
      "source": [
        "# 2. 분할 정복 알고리즘과 이진 탐색의 비교\n",
        "* 분할 정복 알고리즘\n",
        "  * divide: 문제를 하나 또는 둘 이상으로 나눔\n",
        "  * conquer: 나눠진 문제가 충분히 작고, 해결이 가능하다면 해결하고, 그렇지 않으면 다시 나눔\n",
        "  *이진 탐색\n",
        "    * divide: 리스트를 두 개의 서브 리스트로 나눔\n",
        "    * conquer\n",
        "        * 검색할 숫자 > 중간값 - > 뒷 부분의 서브 리스트에서 검색할 숫자를 찾음\n",
        "        * 검색할 숫자 < 중간값 - > 앞 부분의 서브 리스트에서 검색할 숫자를 찾음\n",
        "\n",
        "        "
      ],
      "metadata": {
        "id": "9lkVkeudhdlV"
      }
    },
    {
      "cell_type": "markdown",
      "source": [
        "# 3. 알고리즘 구현\n",
        "* 이진 탐색은 데이터가 정렬되어 있는 상태에서 진행\n",
        "* 데이터가 예를 들어 [2,3,7,12,20] 일 때\n",
        "  * binary_search(data_list, find_data) 함수로 만듦\n",
        "  * data_list의 중간값을 find_data와 비교해서...\n",
        "    * find_data < data_list의 중간값 - > 맨 앞부터 data_list의 중간까지 find_data를 찾음\n",
        "    * find_data > data_list의 중간값 -> data_list의 중간값부터 맨 끝까지 find_data를 찾음\n",
        "    * 그렇지 않다면 data_list 중간 값은 find_data와 일치"
      ],
      "metadata": {
        "id": "8uJTgSLCiY05"
      }
    },
    {
      "cell_type": "code",
      "source": [
        "def binary_search(data,search):\n",
        "    print(data)\n",
        "    if len(data) == 1 and search == data[0]:\n",
        "        return True\n",
        "    if len(data) == 1 and search != data[0]:\n",
        "        return False\n",
        "    if len(data) == 0:\n",
        "        return False\n",
        "    midum = len(data) // 2\n",
        "    if search == data[midum]:\n",
        "        return True\n",
        "    else:\n",
        "        if search > data[midum]:\n",
        "            return binary_search(data[midum+1:],search)\n",
        "        else:\n",
        "            return binary_search(data[:midum],search)"
      ],
      "metadata": {
        "id": "untnOxWGnETa"
      },
      "execution_count": null,
      "outputs": []
    },
    {
      "cell_type": "markdown",
      "source": [
        "# 4. 알고리즘 분석\n",
        "* n개의 리스트를 매번 2로 나눠 1이 될 때까지 비교연산을 k회 진행\n",
        "\n",
        "- <font size=4em>n X $\\frac { 1 }{ 2 }$ X $\\frac { 1 }{ 2 }$ X $\\frac { 1 }{ 2 }$ ... = 1</font>\n",
        "  - <font size=4em>n X $\\frac { 1 }{ 2 }^k$ = 1</font>\n",
        "  - <font size=4em>n = $2^k$ = $log_2 n$ = $log_2 2^k$</font>\n",
        "  - <font size=4em>$log_2 n$ = k</font>\n",
        "\n",
        "> 빅 오 표기법으로는 k+1이 결국 최종 시간 복잡도 O($log n$)"
      ],
      "metadata": {
        "id": "7r8VCzErp0mE"
      }
    }
  ]
}