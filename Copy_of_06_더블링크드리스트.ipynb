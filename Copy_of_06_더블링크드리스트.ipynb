{
  "nbformat": 4,
  "nbformat_minor": 0,
  "metadata": {
    "colab": {
      "provenance": [],
      "authorship_tag": "ABX9TyNumb/vljyq1kRPLDMbcmWa",
      "include_colab_link": true
    },
    "kernelspec": {
      "name": "python3",
      "display_name": "Python 3"
    },
    "language_info": {
      "name": "python"
    }
  },
  "cells": [
    {
      "cell_type": "markdown",
      "metadata": {
        "id": "view-in-github",
        "colab_type": "text"
      },
      "source": [
        "<a href=\"https://colab.research.google.com/github/Anjinhyoung/Coding-Learning/blob/main/Copy_of_06_%EB%8D%94%EB%B8%94%EB%A7%81%ED%81%AC%EB%93%9C%EB%A6%AC%EC%8A%A4%ED%8A%B8.ipynb\" target=\"_parent\"><img src=\"https://colab.research.google.com/assets/colab-badge.svg\" alt=\"Open In Colab\"/></a>"
      ]
    },
    {
      "cell_type": "markdown",
      "source": [
        "# 1.더블 링크드 리스트\n",
        "* 양방향으로 연결되어 있어서 노드 탐색이 양쪽으로 모두 가능"
      ],
      "metadata": {
        "id": "TUYIkKCF7HaI"
      }
    },
    {
      "cell_type": "code",
      "source": [
        "class Node:\n",
        "  def __init__(self,data,prev=None, next=None):\n",
        "    self.prev=prev\n",
        "    self.data=data\n",
        "    self.next=next"
      ],
      "metadata": {
        "id": "bTnN8Vf67NSN"
      },
      "execution_count": null,
      "outputs": []
    },
    {
      "cell_type": "code",
      "source": [
        "class NodeMgmt:\n",
        "    def __init__(self, data):\n",
        "        self.head = Node(data)\n",
        "        self.tail = self.head\n",
        "\n",
        "    def insert(self, data):\n",
        "        if self.head == None:\n",
        "            self.head = Node(data)\n",
        "            self.tail = self.head\n",
        "        else:\n",
        "            node = self.head\n",
        "            while node.next:\n",
        "                node = node.next\n",
        "            new = Node(data)\n",
        "            node.next = new\n",
        "            new.prev = node\n",
        "            self.tail = new\n",
        "\n",
        "    def node_print(self):\n",
        "        node = self.head\n",
        "        while node:\n",
        "            print(node.data)\n",
        "            node = node.next\n",
        "\n",
        "    def search_from_head(self, data):\n",
        "        if self.head == None:\n",
        "            return False\n",
        "        node = self.head\n",
        "        while node:\n",
        "            if node.data == data:\n",
        "              return node.data\n",
        "            else:\n",
        "              node = node.next\n",
        "        return False\n",
        "\n",
        "    def search_from_tail(self, data):\n",
        "        if self.tail == None:\n",
        "            return False\n",
        "        node = self.tail\n",
        "        while node:\n",
        "            if node.data == data:\n",
        "                return node.data\n",
        "            else:\n",
        "                node = node.prev\n",
        "        return False\n",
        "\n",
        "    def insert_before(self,data,after_data): # 2.5 3\n",
        "        if self.head == None:\n",
        "            self.head = Node(data)\n",
        "            return True\n",
        "        else:\n",
        "          node = self.tail # 뒤에서부터 찾기\n",
        "          while node.data !=after_data:\n",
        "            node = node.prev\n",
        "            if node == None:\n",
        "                return False\n",
        "          new = Node(data)\n",
        "          before_new = node.prev # node.prev는 2\n",
        "          before_new.next = new # 2.5\n",
        "          new.prev = before_new # 2\n",
        "          new.next = node\n",
        "          node.prev = new\n",
        "          return True"
      ],
      "metadata": {
        "id": "Mnd7Stj28FAQ"
      },
      "execution_count": null,
      "outputs": []
    },
    {
      "cell_type": "code",
      "source": [
        "double_linked_list = NodeMgmt(0)"
      ],
      "metadata": {
        "id": "367USuAi91tX"
      },
      "execution_count": null,
      "outputs": []
    },
    {
      "cell_type": "code",
      "source": [
        "for data in range(1,11):\n",
        "    double_linked_list.insert(data)"
      ],
      "metadata": {
        "id": "hTQhbcM1-DY_"
      },
      "execution_count": null,
      "outputs": []
    },
    {
      "cell_type": "code",
      "source": [
        "double_linked_list.node_print()"
      ],
      "metadata": {
        "colab": {
          "base_uri": "https://localhost:8080/"
        },
        "id": "8pYRuv12-JSe",
        "outputId": "8cadc0ef-9452-439b-cebd-2d60f398c944"
      },
      "execution_count": null,
      "outputs": [
        {
          "output_type": "stream",
          "name": "stdout",
          "text": [
            "0\n",
            "1\n",
            "2\n",
            "3\n",
            "4\n",
            "5\n",
            "6\n",
            "7\n",
            "8\n",
            "9\n",
            "10\n"
          ]
        }
      ]
    },
    {
      "cell_type": "code",
      "source": [
        "double_linked_list.search_from_head(3)"
      ],
      "metadata": {
        "id": "Yy2X0FL4-ysC",
        "colab": {
          "base_uri": "https://localhost:8080/"
        },
        "outputId": "795d9bf8-066b-489c-e86a-b8cb9a628fad"
      },
      "execution_count": null,
      "outputs": [
        {
          "output_type": "execute_result",
          "data": {
            "text/plain": [
              "3"
            ]
          },
          "metadata": {},
          "execution_count": 18
        }
      ]
    },
    {
      "cell_type": "code",
      "source": [
        "double_linked_list.search_from_head(15)"
      ],
      "metadata": {
        "id": "NymToCL6AW1i",
        "colab": {
          "base_uri": "https://localhost:8080/"
        },
        "outputId": "eaf27990-5f76-4a86-8238-ed24aa911a27"
      },
      "execution_count": null,
      "outputs": [
        {
          "output_type": "execute_result",
          "data": {
            "text/plain": [
              "False"
            ]
          },
          "metadata": {},
          "execution_count": 19
        }
      ]
    }
  ]
}