{
  "nbformat": 4,
  "nbformat_minor": 0,
  "metadata": {
    "colab": {
      "provenance": [],
      "authorship_tag": "ABX9TyNNdQ3JQDBk9fG+gQspRB9F",
      "include_colab_link": true
    },
    "kernelspec": {
      "name": "python3",
      "display_name": "Python 3"
    },
    "language_info": {
      "name": "python"
    }
  },
  "cells": [
    {
      "cell_type": "markdown",
      "metadata": {
        "id": "view-in-github",
        "colab_type": "text"
      },
      "source": [
        "<a href=\"https://colab.research.google.com/github/Anjinhyoung/Coding-Learning/blob/main/11_%EA%B8%B0%EB%B3%B8_%EC%A0%95%EB%A0%AC.ipynb\" target=\"_parent\"><img src=\"https://colab.research.google.com/assets/colab-badge.svg\" alt=\"Open In Colab\"/></a>"
      ]
    },
    {
      "cell_type": "markdown",
      "source": [
        "# 1. 정렬(sort)\n",
        "* 어떤 데이터들이 주어졌을 때 이를 정해진 순서대로 나열하는 것\n",
        "* 프로그램 개발시 빈번하게 정렬을 필요로 함\n",
        "* 다양한 알고리즘이 고안되었으면 알고리즘이 학습의 필수사항"
      ],
      "metadata": {
        "id": "6uE6m5IIBdPN"
      }
    },
    {
      "cell_type": "markdown",
      "source": [
        "# 2.정렬 알고리즘"
      ],
      "metadata": {
        "id": "gNL2W1oyB5cw"
      }
    },
    {
      "cell_type": "markdown",
      "source": [
        "### 2-1. 버블 정렬(bubble sort)\n",
        "* 두 인접한 데이터를 비교해서 앞에 있는 데이터가 뒤에 있는 데이터보다 크면(작으면) 자리를 바꾸는 정렬 알고리즘\n",
        "\n",
        "6 5 3 1 8 7 2 4\n",
        "\n",
        "<img src=\"https://upload.wikimedia.org/wikipedia/commons/c/c8/Bubble-sort-example-300px.gif\" width=500>"
      ],
      "metadata": {
        "id": "UREqWl_GB73Q"
      }
    },
    {
      "cell_type": "code",
      "source": [
        "def bubblesort(data):\n",
        "    for index1 in range(len(data)-1):\n",
        "        for index2 in range(len(data) - index1-1):\n",
        "            if data[index2] > data[index2+1]:\n",
        "                data[index2], data[index1+1] = data[index1+1], data[index2]\n",
        "    return data"
      ],
      "metadata": {
        "id": "5FMm0W1THjnE"
      },
      "execution_count": null,
      "outputs": []
    },
    {
      "cell_type": "code",
      "source": [
        "data_list = [80,90,100,70,50]\n",
        "bubblesort(data_list)"
      ],
      "metadata": {
        "colab": {
          "base_uri": "https://localhost:8080/"
        },
        "id": "pzj5GEROHnaP",
        "outputId": "395328d1-912c-4f1c-cfdb-d38dba06862a"
      },
      "execution_count": null,
      "outputs": [
        {
          "output_type": "execute_result",
          "data": {
            "text/plain": [
              "[50, 70, 80, 90, 100]"
            ]
          },
          "metadata": {},
          "execution_count": 4
        }
      ]
    },
    {
      "cell_type": "markdown",
      "source": [
        "### 2-2. 삽입 정렬(insertion sort)\n",
        "* 해당 인덱스 앞에 있는 데이터부터 비교해서 해당 인덱스의 값이 작으면(크면)\n",
        "데이터의 값을 뒤 인덱스로 복사\n",
        "*해당 인덱스의 값이 더 큰 데이터를 만날 때까지 반복\n",
        "*큰 데이터를 만난 위치 바로 뒤에 해당 인덱스값을 이동\n",
        "\n",
        "<img src=\"https://upload.wikimedia.org/wikipedia/commons/9/9c/Insertion-sort-example.gif\">"
      ],
      "metadata": {
        "id": "N8V_m9WrI4Fd"
      }
    },
    {
      "cell_type": "code",
      "source": [
        "def insertion_sort(data):\n",
        "      for index1 in range(len(data)-1):\n",
        "          for index2 in range(index1+1, 0, -1):\n",
        "              if data[index2] < data[index2-1]:\n",
        "                  data[index2], data[index2-1] = data[index2-1],data[index2]\n",
        "              else:\n",
        "                  break\n",
        "    return data"
      ],
      "metadata": {
        "id": "kB3X2AdOMZy_"
      },
      "execution_count": null,
      "outputs": []
    },
    {
      "cell_type": "code",
      "source": [
        "data_list = [80,90,100,70,50]\n",
        "bubblesort(data_list)"
      ],
      "metadata": {
        "id": "vddmKjLLNUHC"
      },
      "execution_count": null,
      "outputs": []
    },
    {
      "cell_type": "markdown",
      "source": [
        "### 3-3. 선택 정렬(selection sort)\n",
        "* 주어진 데이터 중, 최소값을 찾음\n",
        "* 해당 최소값을 데이터 맨 앞에 위차한 값과 교체함\n",
        "* 맨 앞의 위치를 뺀 나머지 데이터를 동일한 방법으로 반복\n",
        "<img src=\"https://upload.wikimedia.org/wikipedia/commons/9/94/Selection-Sort-Animation.gif\" width=100>"
      ],
      "metadata": {
        "id": "KTouS-o7NfBd"
      }
    },
    {
      "cell_type": "code",
      "source": [
        "def selection_sort(data):\n",
        "    for stand in range(len(data)-1):\n",
        "        min = stand\n",
        "        for index in range(stand+1,len(data)):\n",
        "            if data[min] > data[index]:\n",
        "                min = index\n",
        "        data[min],data[stand] = data[stand], data[min]\n",
        "    return data"
      ],
      "metadata": {
        "id": "lsfrPD_BQqYV"
      },
      "execution_count": null,
      "outputs": []
    },
    {
      "cell_type": "code",
      "source": [
        "data_list = [80,90,100,70,50]\n",
        "bubblesort(data_list)"
      ],
      "metadata": {
        "colab": {
          "base_uri": "https://localhost:8080/"
        },
        "id": "o-nMJbCLRXnW",
        "outputId": "735332cf-3051-4f1b-f6ff-c01b24052460"
      },
      "execution_count": null,
      "outputs": [
        {
          "output_type": "execute_result",
          "data": {
            "text/plain": [
              "[50, 70, 80, 90, 100]"
            ]
          },
          "metadata": {},
          "execution_count": 6
        }
      ]
    }
  ]
}