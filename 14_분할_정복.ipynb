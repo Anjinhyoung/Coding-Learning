{
  "nbformat": 4,
  "nbformat_minor": 0,
  "metadata": {
    "colab": {
      "provenance": [],
      "authorship_tag": "ABX9TyMPa1TzAXZ9FvNkqxukMmtx",
      "include_colab_link": true
    },
    "kernelspec": {
      "name": "python3",
      "display_name": "Python 3"
    },
    "language_info": {
      "name": "python"
    }
  },
  "cells": [
    {
      "cell_type": "markdown",
      "metadata": {
        "id": "view-in-github",
        "colab_type": "text"
      },
      "source": [
        "<a href=\"https://colab.research.google.com/github/Anjinhyoung/Coding-Learning/blob/main/14_%EB%B6%84%ED%95%A0_%EC%A0%95%EB%B3%B5.ipynb\" target=\"_parent\"><img src=\"https://colab.research.google.com/assets/colab-badge.svg\" alt=\"Open In Colab\"/></a>"
      ]
    },
    {
      "cell_type": "markdown",
      "source": [
        "# 1. 분할 정복(Divide Conquer)\n",
        "* 문제를 나눌 수 없을 때까지 나누어서 각각을 풀면서 다시 병합하여 문제의 답을 얻는 알고리즘\n",
        "* 하향식 접근법으로 상위의 해답을 구하기 위해 아래로 내려가면서 하위의 해답을 구하는 방식(재귀함수로 구현)\n",
        "* 문제를 잘게 쪼갤 때 부분 문제는 서로 중복되지 않음(예: 병합 정렬, 퀵 정렬등)\n",
        "* Memoization 기법을 사용하지 않음"
      ],
      "metadata": {
        "id": "qqOzd4oEUNWW"
      }
    },
    {
      "cell_type": "markdown",
      "source": [
        "# 2. 대표적인 분할 정복 알고리즘: 퀵 정렬\n",
        "* 정렬 알고리즘의 꽃\n",
        "* 기준점(pivot)을 정해서 기준점보다 작은 데이터는 왼쪽, 큰 데이터는 오른쪽으로 모으는 함수를 작성\n",
        "* 각 왼쪽, 오른쪽은 재귀용법을 사용해서 다시 동일 함수를 호출하여 위 작업을 반복함"
      ],
      "metadata": {
        "id": "r-JD6MkXU_T7"
      }
    },
    {
      "cell_type": "markdown",
      "source": [
        "### 2-1. 퀵 정렬 알고리즘 구현하기\n",
        "* 리스트 갯수가 1개면 해당 리스트를 리턴\n",
        "* 리스트 맨 앞의 데이터를 기준점으로 정함\n",
        "* left, right 리스트 변수를 생성\n",
        "* 맨 앞에 데이터를 뺀 나머지 데이터를 기준점과 비교\n",
        "      * 기준점보다 작으면 left,append\n",
        "      * 기준점보다 크면 right,append\n",
        "* return quicksort(left) + pivot + quicksort(right)로 재귀 호출"
      ],
      "metadata": {
        "id": "CXU0wAvzas_T"
      }
    },
    {
      "cell_type": "code",
      "source": [
        "def quicksort(data):\n",
        "    if len(data) <= 1:\n",
        "        return data\n",
        "    left, right = list(), list()\n",
        "    pivot = data[0]\n",
        "\n",
        "    for index in range(1, len(data)):\n",
        "        if pivot > data[index]:\n",
        "            left.append(data[index])\n",
        "        else:\n",
        "            right.append(data[index])\n",
        "    return quicksort(left) + [pivot] + quicksort(right)"
      ],
      "metadata": {
        "id": "UGjaWskTauq-"
      },
      "execution_count": null,
      "outputs": []
    },
    {
      "cell_type": "code",
      "source": [
        "import random"
      ],
      "metadata": {
        "id": "4iOYFdY3ax42"
      },
      "execution_count": null,
      "outputs": []
    },
    {
      "cell_type": "code",
      "source": [
        "data_list = random.sample(range(100), 10)\n",
        "data_list"
      ],
      "metadata": {
        "id": "USqNmaT1azPh"
      },
      "execution_count": null,
      "outputs": []
    },
    {
      "cell_type": "code",
      "source": [
        "quicksort(data_list)"
      ],
      "metadata": {
        "id": "xCaw4QNVa4uQ"
      },
      "execution_count": null,
      "outputs": []
    },
    {
      "cell_type": "code",
      "source": [
        "def quicksort(data):\n",
        "    if len(data) <= 1:\n",
        "        return data\n",
        "    left, right = list(), list()\n",
        "    pivot = data[0]\n",
        "\n",
        "    left = [item for item in data[1:] if pivot > item]\n",
        "    right = [item for item in data[1:] if pivot <= item]\n",
        "    return quicksort(left) + [pivot] + quicksort(right)"
      ],
      "metadata": {
        "id": "At3HV6xVa8Dx"
      },
      "execution_count": null,
      "outputs": []
    }
  ]
}